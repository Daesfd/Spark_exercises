{
 "cells": [
  {
   "cell_type": "markdown",
   "id": "0e8a7fd4",
   "metadata": {},
   "source": [
    "# "
   ]
  },
  {
   "cell_type": "code",
   "execution_count": 1,
   "id": "757a5b3f",
   "metadata": {},
   "outputs": [],
   "source": [
    "import pyspark\n",
    "from pyspark import SparkContext\n",
    "from pyspark.sql import SparkSession\n",
    "import yfinance as yf\n",
    "from pyspark.sql.functions import format_number, mean, max, min\n",
    "from pyspark.sql.functions import (dayofmonth, hour, dayofyear, month, year, weekofyear, date_format)"
   ]
  },
  {
   "cell_type": "code",
   "execution_count": 2,
   "id": "5d99614c",
   "metadata": {},
   "outputs": [
    {
     "data": {
      "text/plain": [
       "'3.0.3'"
      ]
     },
     "execution_count": 2,
     "metadata": {},
     "output_type": "execute_result"
    }
   ],
   "source": [
    "pyspark.__version__"
   ]
  },
  {
   "cell_type": "code",
   "execution_count": 3,
   "id": "dd5ca35f",
   "metadata": {},
   "outputs": [
    {
     "name": "stderr",
     "output_type": "stream",
     "text": [
      "22/07/04 16:00:56 WARN Utils: Your hostname, computador resolves to a loopback address: 127.0.1.1; using 10.0.0.135 instead (on interface wlp2s0)\n",
      "22/07/04 16:00:56 WARN Utils: Set SPARK_LOCAL_IP if you need to bind to another address\n",
      "WARNING: An illegal reflective access operation has occurred\n",
      "WARNING: Illegal reflective access by org.apache.spark.unsafe.Platform (file:/home/edson/spark/spark-3.0.3-bin-hadoop3.2/jars/spark-unsafe_2.12-3.0.3.jar) to constructor java.nio.DirectByteBuffer(long,int)\n",
      "WARNING: Please consider reporting this to the maintainers of org.apache.spark.unsafe.Platform\n",
      "WARNING: Use --illegal-access=warn to enable warnings of further illegal reflective access operations\n",
      "WARNING: All illegal access operations will be denied in a future release\n",
      "22/07/04 16:00:57 WARN NativeCodeLoader: Unable to load native-hadoop library for your platform... using builtin-java classes where applicable\n",
      "Using Spark's default log4j profile: org/apache/spark/log4j-defaults.properties\n",
      "Setting default log level to \"WARN\".\n",
      "To adjust logging level use sc.setLogLevel(newLevel). For SparkR, use setLogLevel(newLevel).\n"
     ]
    }
   ],
   "source": [
    "sc = SparkContext.getOrCreate()"
   ]
  },
  {
   "cell_type": "code",
   "execution_count": 4,
   "id": "f68c91ea",
   "metadata": {},
   "outputs": [],
   "source": [
    "spark = SparkSession(sc)"
   ]
  },
  {
   "cell_type": "code",
   "execution_count": 5,
   "id": "efd837f5",
   "metadata": {},
   "outputs": [
    {
     "data": {
      "text/plain": [
       "<module 'pyspark' from '/home/edson/spark/spark-3.0.3-bin-hadoop3.2/python/pyspark/__init__.py'>"
      ]
     },
     "execution_count": 5,
     "metadata": {},
     "output_type": "execute_result"
    }
   ],
   "source": [
    "pyspark"
   ]
  },
  {
   "cell_type": "code",
   "execution_count": 6,
   "id": "17f57b70",
   "metadata": {},
   "outputs": [],
   "source": [
    "start_date = '2011-12-31'\n",
    "end_date = '2017-12-31'"
   ]
  },
  {
   "cell_type": "code",
   "execution_count": 7,
   "id": "421b8220",
   "metadata": {},
   "outputs": [
    {
     "name": "stdout",
     "output_type": "stream",
     "text": [
      "[*********************100%***********************]  1 of 1 completed\n"
     ]
    }
   ],
   "source": [
    "data = yf.download('WMT', start=start_date, end=end_date)"
   ]
  },
  {
   "cell_type": "code",
   "execution_count": 9,
   "id": "832d9138",
   "metadata": {},
   "outputs": [],
   "source": [
    "data.to_csv('./data/walmart_data.csv')"
   ]
  },
  {
   "cell_type": "code",
   "execution_count": 10,
   "id": "d0f2f274",
   "metadata": {},
   "outputs": [],
   "source": [
    "df = spark.read.csv('./data/walmart_data.csv', inferSchema=True, header=True)"
   ]
  },
  {
   "cell_type": "code",
   "execution_count": 11,
   "id": "fae0ba05",
   "metadata": {},
   "outputs": [
    {
     "data": {
      "text/plain": [
       "['Date', 'Open', 'High', 'Low', 'Close', 'Adj Close', 'Volume']"
      ]
     },
     "execution_count": 11,
     "metadata": {},
     "output_type": "execute_result"
    }
   ],
   "source": [
    "df.columns"
   ]
  },
  {
   "cell_type": "code",
   "execution_count": 12,
   "id": "1829096f",
   "metadata": {},
   "outputs": [
    {
     "name": "stdout",
     "output_type": "stream",
     "text": [
      "root\n",
      " |-- Date: string (nullable = true)\n",
      " |-- Open: double (nullable = true)\n",
      " |-- High: double (nullable = true)\n",
      " |-- Low: double (nullable = true)\n",
      " |-- Close: double (nullable = true)\n",
      " |-- Adj Close: double (nullable = true)\n",
      " |-- Volume: integer (nullable = true)\n",
      "\n"
     ]
    }
   ],
   "source": [
    "df.printSchema()"
   ]
  },
  {
   "cell_type": "code",
   "execution_count": 13,
   "id": "6c7c006a",
   "metadata": {},
   "outputs": [
    {
     "name": "stdout",
     "output_type": "stream",
     "text": [
      "Row(Date='2012-01-03', Open=59.970001220703125, High=61.060001373291016, Low=59.869998931884766, Close=60.33000183105469, Adj Close=47.53925704956055, Volume=12668800) \n",
      "\n",
      "Row(Date='2012-01-04', Open=60.209999084472656, High=60.349998474121094, Low=59.470001220703125, Close=59.709999084472656, Adj Close=47.05069351196289, Volume=9593300) \n",
      "\n",
      "Row(Date='2012-01-05', Open=59.349998474121094, High=59.619998931884766, Low=58.369998931884766, Close=59.41999816894531, Adj Close=46.82217788696289, Volume=12768200) \n",
      "\n",
      "Row(Date='2012-01-06', Open=59.41999816894531, High=59.45000076293945, Low=58.869998931884766, Close=59.0, Adj Close=46.491233825683594, Volume=8069400) \n",
      "\n",
      "Row(Date='2012-01-09', Open=59.029998779296875, High=59.54999923706055, Low=58.91999816894531, Close=59.18000030517578, Adj Close=46.63306427001953, Volume=6679300) \n",
      "\n"
     ]
    }
   ],
   "source": [
    "for line in df.head(5):\n",
    "    print(line, '\\n')"
   ]
  },
  {
   "cell_type": "code",
   "execution_count": 14,
   "id": "d1949708",
   "metadata": {},
   "outputs": [
    {
     "name": "stderr",
     "output_type": "stream",
     "text": [
      "                                                                                \r"
     ]
    },
    {
     "name": "stdout",
     "output_type": "stream",
     "text": [
      "+-------+--------+--------+--------+--------+----------+\n",
      "|summary|    Open|    High|     LOw|   Close|    Volume|\n",
      "+-------+--------+--------+--------+--------+----------+\n",
      "|  count|1,509.00|1,509.00|1,509.00|1,509.00|     1,509|\n",
      "|   mean|   73.44|   73.94|   73.01|   73.48| 8,335,863|\n",
      "| stddev|    7.58|    7.60|    7.55|    7.58| 4,573,647|\n",
      "|    min|   56.39|   57.06|   56.30|   56.42| 2,094,900|\n",
      "|    max|   99.91|  100.13|   99.12|   99.62|80,898,100|\n",
      "+-------+--------+--------+--------+--------+----------+\n",
      "\n"
     ]
    }
   ],
   "source": [
    "summary = df.describe()\n",
    "summary.select(summary['summary'],\n",
    "                  format_number(summary['Open'].cast('float'), 2).alias('Open'),\n",
    "                  format_number(summary['High'].cast('float'), 2).alias('High'),\n",
    "                  format_number(summary['Low'].cast('float'), 2).alias('LOw'),\n",
    "                  format_number(summary['Close'].cast('float'), 2).alias('Close'),\n",
    "                  format_number(summary['Volume'].cast('int'), 0).alias('Volume'),\n",
    "                  ).show()"
   ]
  },
  {
   "cell_type": "code",
   "execution_count": 15,
   "id": "f361d256",
   "metadata": {},
   "outputs": [],
   "source": [
    "df_hv = df.withColumn('HV Ratio', df['High']/df['Volume']).select(['HV Ratio'])"
   ]
  },
  {
   "cell_type": "code",
   "execution_count": 16,
   "id": "d4834dde",
   "metadata": {},
   "outputs": [
    {
     "name": "stdout",
     "output_type": "stream",
     "text": [
      "+--------------------+\n",
      "|            HV Ratio|\n",
      "+--------------------+\n",
      "|4.819714682786927E-6|\n",
      "|6.290848662516662E-6|\n",
      "| 4.66941298944916E-6|\n",
      "| 7.36733843444859E-6|\n",
      "|8.915604814435727E-6|\n",
      "|8.644477449144044E-6|\n",
      "|9.351828386844425E-6|\n",
      "| 8.29141562102703E-6|\n",
      "|7.712212051589609E-6|\n",
      "|7.071764777688419...|\n",
      "|1.015495462653464...|\n",
      "|  6.5763540967921E-6|\n",
      "| 5.90145296180676E-6|\n",
      "|8.547679390846264E-6|\n",
      "|8.420709512685392E-6|\n",
      "|1.041448335142357...|\n",
      "|8.316075435382035E-6|\n",
      "|9.721183804158345E-6|\n",
      "|8.029435987746889E-6|\n",
      "|6.307432228123159E-6|\n",
      "+--------------------+\n",
      "only showing top 20 rows\n",
      "\n"
     ]
    }
   ],
   "source": [
    "df_hv.show()"
   ]
  },
  {
   "cell_type": "code",
   "execution_count": 17,
   "id": "096657c7",
   "metadata": {},
   "outputs": [
    {
     "data": {
      "text/plain": [
       "'2017-11-17'"
      ]
     },
     "execution_count": 17,
     "metadata": {},
     "output_type": "execute_result"
    }
   ],
   "source": [
    "df.orderBy(df['High'].desc()).select(['Date']).head(1)[0]['Date']"
   ]
  },
  {
   "cell_type": "code",
   "execution_count": 18,
   "id": "9dfa4d24",
   "metadata": {},
   "outputs": [
    {
     "name": "stdout",
     "output_type": "stream",
     "text": [
      "+-----------------+\n",
      "|       avg(Close)|\n",
      "+-----------------+\n",
      "|73.48192850243105|\n",
      "+-----------------+\n",
      "\n"
     ]
    }
   ],
   "source": [
    "df.select(mean('Close')).show()"
   ]
  },
  {
   "cell_type": "code",
   "execution_count": 19,
   "id": "65819252",
   "metadata": {},
   "outputs": [
    {
     "name": "stdout",
     "output_type": "stream",
     "text": [
      "+-----------+-----------+\n",
      "|max(Volume)|min(Volume)|\n",
      "+-----------+-----------+\n",
      "|   80898100|    2094900|\n",
      "+-----------+-----------+\n",
      "\n"
     ]
    }
   ],
   "source": [
    "df.select(max('Volume'), min('Volume')).show()"
   ]
  },
  {
   "cell_type": "code",
   "execution_count": 20,
   "id": "f717689a",
   "metadata": {},
   "outputs": [
    {
     "data": {
      "text/plain": [
       "81"
      ]
     },
     "execution_count": 20,
     "metadata": {},
     "output_type": "execute_result"
    }
   ],
   "source": [
    "df.filter(df['Close'] < 60).count()"
   ]
  },
  {
   "cell_type": "code",
   "execution_count": 21,
   "id": "fa1c46ba",
   "metadata": {},
   "outputs": [
    {
     "data": {
      "text/plain": [
       "13.585155732273028"
      ]
     },
     "execution_count": 21,
     "metadata": {},
     "output_type": "execute_result"
    }
   ],
   "source": [
    "df.filter('High > 80').count() * 100/df.count()"
   ]
  },
  {
   "cell_type": "code",
   "execution_count": 22,
   "id": "75199623",
   "metadata": {},
   "outputs": [
    {
     "data": {
      "text/plain": [
       "-0.21686100845970427"
      ]
     },
     "execution_count": 22,
     "metadata": {},
     "output_type": "execute_result"
    }
   ],
   "source": [
    "df.corr('High', 'Volume')"
   ]
  },
  {
   "cell_type": "code",
   "execution_count": 23,
   "id": "a70a2419",
   "metadata": {},
   "outputs": [],
   "source": [
    "year_df = df.withColumn('Year', year(df['Date']))"
   ]
  },
  {
   "cell_type": "code",
   "execution_count": 24,
   "id": "17fcfd83",
   "metadata": {},
   "outputs": [
    {
     "name": "stderr",
     "output_type": "stream",
     "text": [
      "\r",
      "[Stage 25:=====================================================> (97 + 3) / 100]\r",
      "\r",
      "                                                                                \r"
     ]
    },
    {
     "name": "stdout",
     "output_type": "stream",
     "text": [
      "+----+------------------+\n",
      "|Year|         max(High)|\n",
      "+----+------------------+\n",
      "|2015| 90.97000122070312|\n",
      "|2013| 81.37000274658203|\n",
      "|2014| 88.08999633789062|\n",
      "|2012|  77.5999984741211|\n",
      "|2016| 75.19000244140625|\n",
      "|2017|100.12999725341797|\n",
      "+----+------------------+\n",
      "\n"
     ]
    }
   ],
   "source": [
    "year_df.groupBy('Year').max()['Year', 'max(High)'].show()"
   ]
  },
  {
   "cell_type": "code",
   "execution_count": 25,
   "id": "8e546fa8",
   "metadata": {},
   "outputs": [
    {
     "name": "stderr",
     "output_type": "stream",
     "text": [
      "[Stage 29:================================================>     (179 + 4) / 200]\r"
     ]
    },
    {
     "name": "stdout",
     "output_type": "stream",
     "text": [
      "+-----+-----------------+\n",
      "|Month|       avg(Close)|\n",
      "+-----+-----------------+\n",
      "|    1|70.82504124286746|\n",
      "|    2|70.92482777299553|\n",
      "|    3| 71.5119999225323|\n",
      "|    4|73.08225816295993|\n",
      "|    5|73.09976547956467|\n",
      "|    6|73.36492192745209|\n",
      "|    7|74.74850379763626|\n",
      "|    8|74.23105280022872|\n",
      "|    9|73.39057400187508|\n",
      "|   10|73.78681824424051|\n",
      "|   11|75.76213136266489|\n",
      "|   12|76.81428603520469|\n",
      "+-----+-----------------+\n",
      "\n"
     ]
    },
    {
     "name": "stderr",
     "output_type": "stream",
     "text": [
      "\r",
      "                                                                                \r"
     ]
    }
   ],
   "source": [
    "month_df = df.withColumn('Month', month(df['Date']))\n",
    "month_df = month_df.groupBy('Month').mean()\n",
    "month_df = month_df.orderBy('Month')\n",
    "month_df['Month', 'avg(Close)'].show()"
   ]
  }
 ],
 "metadata": {
  "kernelspec": {
   "display_name": "Python 3 (ipykernel)",
   "language": "python",
   "name": "python3"
  },
  "language_info": {
   "codemirror_mode": {
    "name": "ipython",
    "version": 3
   },
   "file_extension": ".py",
   "mimetype": "text/x-python",
   "name": "python",
   "nbconvert_exporter": "python",
   "pygments_lexer": "ipython3",
   "version": "3.8.10"
  }
 },
 "nbformat": 4,
 "nbformat_minor": 5
}
