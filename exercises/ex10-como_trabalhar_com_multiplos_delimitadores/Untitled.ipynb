{
 "cells": [
  {
   "cell_type": "markdown",
   "id": "af0aab0d",
   "metadata": {},
   "source": [
    "# Como trabalhar com múltiplos delimitadores"
   ]
  },
  {
   "cell_type": "code",
   "execution_count": 1,
   "id": "8ed745d3",
   "metadata": {},
   "outputs": [],
   "source": [
    "import pyspark\n",
    "from pyspark.sql import SparkSession\n",
    "from pyspark.sql.functions import *"
   ]
  },
  {
   "cell_type": "code",
   "execution_count": 2,
   "id": "b69e6a06",
   "metadata": {},
   "outputs": [
    {
     "name": "stderr",
     "output_type": "stream",
     "text": [
      "22/07/05 18:26:44 WARN Utils: Your hostname, computador resolves to a loopback address: 127.0.1.1; using 10.0.0.135 instead (on interface wlp2s0)\n",
      "22/07/05 18:26:44 WARN Utils: Set SPARK_LOCAL_IP if you need to bind to another address\n",
      "WARNING: An illegal reflective access operation has occurred\n",
      "WARNING: Illegal reflective access by org.apache.spark.unsafe.Platform (file:/home/edson/spark/spark-3.0.3-bin-hadoop3.2/jars/spark-unsafe_2.12-3.0.3.jar) to constructor java.nio.DirectByteBuffer(long,int)\n",
      "WARNING: Please consider reporting this to the maintainers of org.apache.spark.unsafe.Platform\n",
      "WARNING: Use --illegal-access=warn to enable warnings of further illegal reflective access operations\n",
      "WARNING: All illegal access operations will be denied in a future release\n",
      "22/07/05 18:26:44 WARN NativeCodeLoader: Unable to load native-hadoop library for your platform... using builtin-java classes where applicable\n",
      "Using Spark's default log4j profile: org/apache/spark/log4j-defaults.properties\n",
      "Setting default log level to \"WARN\".\n",
      "To adjust logging level use sc.setLogLevel(newLevel). For SparkR, use setLogLevel(newLevel).\n"
     ]
    }
   ],
   "source": [
    "spark = SparkSession.builder \\\n",
    "    .master(\"local\") \\\n",
    "    .config(\"spark.sql.autoBroadcastJoinThreshold\", -1) \\\n",
    "    .config(\"spark.executor.memory\", \"500mb\") \\\n",
    "    .appName(\"Ex10\") \\\n",
    "    .getOrCreate()"
   ]
  },
  {
   "cell_type": "markdown",
   "id": "4500c272",
   "metadata": {},
   "source": [
    "## Trabalhando com delimitadores duplos"
   ]
  },
  {
   "cell_type": "code",
   "execution_count": 4,
   "id": "7b665d1f",
   "metadata": {},
   "outputs": [],
   "source": [
    "df = spark.read.csv('./data/data.csv', header=True, inferSchema=True)"
   ]
  },
  {
   "cell_type": "code",
   "execution_count": 5,
   "id": "8f64f74b",
   "metadata": {},
   "outputs": [
    {
     "name": "stdout",
     "output_type": "stream",
     "text": [
      "+----------------+\n",
      "|Id||Nome||Estado|\n",
      "+----------------+\n",
      "|    1||Pedro||SP|\n",
      "|    2||Maria||RJ|\n",
      "|      3||Ana||SP|\n",
      "|     4||Joao||MG|\n",
      "|    5||Lucas||SC|\n",
      "+----------------+\n",
      "\n"
     ]
    }
   ],
   "source": [
    "df.show()"
   ]
  },
  {
   "cell_type": "markdown",
   "id": "236802ae",
   "metadata": {},
   "source": [
    "### Problema: não há a separação dos elementos\n",
    "### Solução: usar sep='||'"
   ]
  },
  {
   "cell_type": "code",
   "execution_count": 6,
   "id": "2a9bd48e",
   "metadata": {},
   "outputs": [],
   "source": [
    "df = spark.read.csv('./data/data.csv', header=True, inferSchema=True, sep='||')"
   ]
  },
  {
   "cell_type": "code",
   "execution_count": 7,
   "id": "cc06a674",
   "metadata": {
    "scrolled": true
   },
   "outputs": [
    {
     "name": "stdout",
     "output_type": "stream",
     "text": [
      "+---+-----+------+\n",
      "| Id| Nome|Estado|\n",
      "+---+-----+------+\n",
      "|  1|Pedro|    SP|\n",
      "|  2|Maria|    RJ|\n",
      "|  3|  Ana|    SP|\n",
      "|  4| Joao|    MG|\n",
      "|  5|Lucas|    SC|\n",
      "+---+-----+------+\n",
      "\n"
     ]
    }
   ],
   "source": [
    "df.show()"
   ]
  },
  {
   "cell_type": "markdown",
   "id": "aec86e98",
   "metadata": {},
   "source": [
    "## Trabalhando com múltiplos delimitadores"
   ]
  },
  {
   "cell_type": "code",
   "execution_count": 8,
   "id": "b753aba8",
   "metadata": {},
   "outputs": [],
   "source": [
    "df2 = spark.read.csv('./data/data_mult_del.csv', header=True, inferSchema=True)"
   ]
  },
  {
   "cell_type": "code",
   "execution_count": 9,
   "id": "59a09d3d",
   "metadata": {},
   "outputs": [
    {
     "name": "stdout",
     "output_type": "stream",
     "text": [
      "+---+-----+------+-----------+\n",
      "| Id| Nome|Estado|      Notas|\n",
      "+---+-----+------+-----------+\n",
      "|  1|Pedro|    SP|35|45|55|65|\n",
      "|  2|Maria|    RJ|35|45|55|65|\n",
      "|  3|  Ana|    SP|35|45|55|65|\n",
      "|  4| Joao|    MG|35|45|55|65|\n",
      "|  5|Lucas|    SC|35|45|55|65|\n",
      "+---+-----+------+-----------+\n",
      "\n"
     ]
    }
   ],
   "source": [
    "df2.show()"
   ]
  },
  {
   "cell_type": "markdown",
   "id": "46c811b2",
   "metadata": {},
   "source": [
    "### Problema: há a separação entre as colunas, mas não entre os elementos da coluna notas"
   ]
  },
  {
   "cell_type": "code",
   "execution_count": 12,
   "id": "bd174b54",
   "metadata": {},
   "outputs": [],
   "source": [
    "df2 = df2.withColumn('Notas_separadas', split(col('Notas'), '[|]'))"
   ]
  },
  {
   "cell_type": "code",
   "execution_count": 13,
   "id": "5df6661f",
   "metadata": {},
   "outputs": [
    {
     "name": "stdout",
     "output_type": "stream",
     "text": [
      "+---+-----+------+-----------+----------------+\n",
      "| Id| Nome|Estado|      Notas| Notas_separadas|\n",
      "+---+-----+------+-----------+----------------+\n",
      "|  1|Pedro|    SP|35|45|55|65|[35, 45, 55, 65]|\n",
      "|  2|Maria|    RJ|35|45|55|65|[35, 45, 55, 65]|\n",
      "|  3|  Ana|    SP|35|45|55|65|[35, 45, 55, 65]|\n",
      "|  4| Joao|    MG|35|45|55|65|[35, 45, 55, 65]|\n",
      "|  5|Lucas|    SC|35|45|55|65|[35, 45, 55, 65]|\n",
      "+---+-----+------+-----------+----------------+\n",
      "\n"
     ]
    }
   ],
   "source": [
    "df2.show()"
   ]
  },
  {
   "cell_type": "markdown",
   "id": "9f3ba8ab",
   "metadata": {},
   "source": [
    "### Separando a lista em outras quatro colunas"
   ]
  },
  {
   "cell_type": "code",
   "execution_count": 15,
   "id": "0dce7140",
   "metadata": {},
   "outputs": [],
   "source": [
    "df2 = df2.withColumn('Nota_!', col('Notas_separadas')[0]\n",
    "        ).withColumn('Nota_2', col('Notas_separadas')[1]\n",
    "        ).withColumn('Nota_3', col('Notas_separadas')[2]\n",
    "        ).withColumn('Nota_4', col('Notas_separadas')[3])"
   ]
  },
  {
   "cell_type": "code",
   "execution_count": 17,
   "id": "f7efe435",
   "metadata": {},
   "outputs": [
    {
     "name": "stdout",
     "output_type": "stream",
     "text": [
      "+---+-----+------+-----------+----------------+------+------+------+------+\n",
      "| Id| Nome|Estado|      Notas| Notas_separadas|Nota_!|Nota_2|Nota_3|Nota_4|\n",
      "+---+-----+------+-----------+----------------+------+------+------+------+\n",
      "|  1|Pedro|    SP|35|45|55|65|[35, 45, 55, 65]|    35|    45|    55|    65|\n",
      "|  2|Maria|    RJ|35|45|55|65|[35, 45, 55, 65]|    35|    45|    55|    65|\n",
      "|  3|  Ana|    SP|35|45|55|65|[35, 45, 55, 65]|    35|    45|    55|    65|\n",
      "|  4| Joao|    MG|35|45|55|65|[35, 45, 55, 65]|    35|    45|    55|    65|\n",
      "|  5|Lucas|    SC|35|45|55|65|[35, 45, 55, 65]|    35|    45|    55|    65|\n",
      "+---+-----+------+-----------+----------------+------+------+------+------+\n",
      "\n"
     ]
    }
   ],
   "source": [
    "df2.show()"
   ]
  },
  {
   "cell_type": "markdown",
   "id": "bedcc84c",
   "metadata": {},
   "source": [
    "### Deleção das colunas Notas e Notas_separadas"
   ]
  },
  {
   "cell_type": "code",
   "execution_count": 20,
   "id": "7b1a3ff4",
   "metadata": {},
   "outputs": [],
   "source": [
    "df2 = df2.drop('Notas', 'Notas_separadas')"
   ]
  },
  {
   "cell_type": "code",
   "execution_count": 21,
   "id": "b4acbd24",
   "metadata": {},
   "outputs": [
    {
     "name": "stdout",
     "output_type": "stream",
     "text": [
      "+---+-----+------+------+------+------+------+\n",
      "| Id| Nome|Estado|Nota_!|Nota_2|Nota_3|Nota_4|\n",
      "+---+-----+------+------+------+------+------+\n",
      "|  1|Pedro|    SP|    35|    45|    55|    65|\n",
      "|  2|Maria|    RJ|    35|    45|    55|    65|\n",
      "|  3|  Ana|    SP|    35|    45|    55|    65|\n",
      "|  4| Joao|    MG|    35|    45|    55|    65|\n",
      "|  5|Lucas|    SC|    35|    45|    55|    65|\n",
      "+---+-----+------+------+------+------+------+\n",
      "\n"
     ]
    }
   ],
   "source": [
    "df2.show()"
   ]
  }
 ],
 "metadata": {
  "kernelspec": {
   "display_name": "Python 3 (ipykernel)",
   "language": "python",
   "name": "python3"
  },
  "language_info": {
   "codemirror_mode": {
    "name": "ipython",
    "version": 3
   },
   "file_extension": ".py",
   "mimetype": "text/x-python",
   "name": "python",
   "nbconvert_exporter": "python",
   "pygments_lexer": "ipython3",
   "version": "3.8.10"
  }
 },
 "nbformat": 4,
 "nbformat_minor": 5
}
