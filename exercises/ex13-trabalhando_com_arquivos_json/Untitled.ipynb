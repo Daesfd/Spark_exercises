{
 "cells": [
  {
   "cell_type": "code",
   "execution_count": 3,
   "id": "9a60abc2",
   "metadata": {},
   "outputs": [],
   "source": [
    "import pyspark\n",
    "from pyspark.sql import SparkSession\n",
    "from pyspark.sql.functions import *"
   ]
  },
  {
   "cell_type": "code",
   "execution_count": 4,
   "id": "a2f8f3ec",
   "metadata": {},
   "outputs": [
    {
     "name": "stderr",
     "output_type": "stream",
     "text": [
      "22/07/08 10:58:30 WARN Utils: Your hostname, computador resolves to a loopback address: 127.0.1.1; using 192.168.15.156 instead (on interface wlp2s0)\n",
      "22/07/08 10:58:30 WARN Utils: Set SPARK_LOCAL_IP if you need to bind to another address\n",
      "WARNING: An illegal reflective access operation has occurred\n",
      "WARNING: Illegal reflective access by org.apache.spark.unsafe.Platform (file:/home/edson/spark/spark-3.0.3-bin-hadoop3.2/jars/spark-unsafe_2.12-3.0.3.jar) to constructor java.nio.DirectByteBuffer(long,int)\n",
      "WARNING: Please consider reporting this to the maintainers of org.apache.spark.unsafe.Platform\n",
      "WARNING: Use --illegal-access=warn to enable warnings of further illegal reflective access operations\n",
      "WARNING: All illegal access operations will be denied in a future release\n",
      "22/07/08 10:58:30 WARN NativeCodeLoader: Unable to load native-hadoop library for your platform... using builtin-java classes where applicable\n",
      "Using Spark's default log4j profile: org/apache/spark/log4j-defaults.properties\n",
      "Setting default log level to \"WARN\".\n",
      "To adjust logging level use sc.setLogLevel(newLevel). For SparkR, use setLogLevel(newLevel).\n"
     ]
    }
   ],
   "source": [
    "spark = SparkSession.builder \\\n",
    "    .master(\"local\") \\\n",
    "    .config(\"spark.sql.autoBroadcastJoinThreshold\", -1) \\\n",
    "    .config(\"spark.executor.memory\", \"500mb\") \\\n",
    "    .appName(\"Ex13\") \\\n",
    "    .getOrCreate()"
   ]
  },
  {
   "cell_type": "code",
   "execution_count": 5,
   "id": "da0e6b42",
   "metadata": {},
   "outputs": [
    {
     "name": "stderr",
     "output_type": "stream",
     "text": [
      "                                                                                \r"
     ]
    }
   ],
   "source": [
    "df = spark.read.json('./data/data.json')"
   ]
  },
  {
   "cell_type": "markdown",
   "id": "54dc8340",
   "metadata": {},
   "source": [
    "## Como os dados estão múltiplas linhas, não há a leitura correta do arquivo"
   ]
  },
  {
   "cell_type": "code",
   "execution_count": 6,
   "id": "a2ab61dc",
   "metadata": {
    "scrolled": true
   },
   "outputs": [
    {
     "name": "stdout",
     "output_type": "stream",
     "text": [
      "+-----------------+----+------------+\n",
      "|  _corrupt_record|  id|        type|\n",
      "+-----------------+----+------------+\n",
      "|                {|null|        null|\n",
      "|   \t\"id\": \"0001\",|null|        null|\n",
      "|\t\"type\": \"donut\",|null|        null|\n",
      "| \t\"name\": \"Cake\",|null|        null|\n",
      "|    \t\"ppu\": 0.55,|null|        null|\n",
      "|      \t\"batters\":|null|        null|\n",
      "|              \t\t{|null|        null|\n",
      "|     \t\t\t\"batter\":|null|        null|\n",
      "|            \t\t\t\t[|null|        null|\n",
      "|             null|1001|     Regular|\n",
      "|             null|1002|   Chocolate|\n",
      "|             null|1003|   Blueberry|\n",
      "|             null|1004|Devil's Food|\n",
      "|            \t\t\t\t]|null|        null|\n",
      "|             \t\t},|null|        null|\n",
      "|      \t\"topping\":|null|        null|\n",
      "|              \t\t[|null|        null|\n",
      "|             null|5001|        None|\n",
      "|             null|5002|      Glazed|\n",
      "|             null|5005|       Sugar|\n",
      "+-----------------+----+------------+\n",
      "only showing top 20 rows\n",
      "\n"
     ]
    }
   ],
   "source": [
    "df.show()"
   ]
  },
  {
   "cell_type": "markdown",
   "id": "d510e2a7",
   "metadata": {},
   "source": [
    "## Releitura do df, separando pelos indicies"
   ]
  },
  {
   "cell_type": "code",
   "execution_count": 38,
   "id": "f791660f",
   "metadata": {},
   "outputs": [],
   "source": [
    "df = spark.read.option('multiline', 'true').json('./data/data.json')"
   ]
  },
  {
   "cell_type": "code",
   "execution_count": 39,
   "id": "660594d3",
   "metadata": {},
   "outputs": [
    {
     "name": "stdout",
     "output_type": "stream",
     "text": [
      "+--------------------+----+----+----+--------------------+-----+\n",
      "|             batters|  id|name| ppu|             topping| type|\n",
      "+--------------------+----+----+----+--------------------+-----+\n",
      "|[[[1001, Regular]...|0001|Cake|0.55|[[5001, None], [5...|donut|\n",
      "+--------------------+----+----+----+--------------------+-----+\n",
      "\n"
     ]
    }
   ],
   "source": [
    "df.show()"
   ]
  },
  {
   "cell_type": "markdown",
   "id": "060b523e",
   "metadata": {},
   "source": [
    "### Batters.batter e topping são estruturados como arrays - necessário separar os dados"
   ]
  },
  {
   "cell_type": "code",
   "execution_count": 40,
   "id": "e27b7a04",
   "metadata": {
    "scrolled": false
   },
   "outputs": [
    {
     "data": {
      "text/plain": [
       "DataFrame[batters: struct<batter:array<struct<id:string,type:string>>>, id: string, name: string, ppu: double, topping: array<struct<id:string,type:string>>, type: string]"
      ]
     },
     "metadata": {},
     "output_type": "display_data"
    }
   ],
   "source": [
    "display(df)"
   ]
  },
  {
   "cell_type": "code",
   "execution_count": 41,
   "id": "47690b5a",
   "metadata": {},
   "outputs": [
    {
     "name": "stdout",
     "output_type": "stream",
     "text": [
      "root\n",
      " |-- batters: struct (nullable = true)\n",
      " |    |-- batter: array (nullable = true)\n",
      " |    |    |-- element: struct (containsNull = true)\n",
      " |    |    |    |-- id: string (nullable = true)\n",
      " |    |    |    |-- type: string (nullable = true)\n",
      " |-- id: string (nullable = true)\n",
      " |-- name: string (nullable = true)\n",
      " |-- ppu: double (nullable = true)\n",
      " |-- topping: array (nullable = true)\n",
      " |    |-- element: struct (containsNull = true)\n",
      " |    |    |-- id: string (nullable = true)\n",
      " |    |    |-- type: string (nullable = true)\n",
      " |-- type: string (nullable = true)\n",
      "\n"
     ]
    }
   ],
   "source": [
    "df.printSchema()"
   ]
  },
  {
   "cell_type": "markdown",
   "id": "af806d3e",
   "metadata": {},
   "source": [
    "## Uso de explode() separa os dados de arrays"
   ]
  },
  {
   "cell_type": "code",
   "execution_count": 42,
   "id": "2c8a72d2",
   "metadata": {
    "scrolled": true
   },
   "outputs": [
    {
     "name": "stdout",
     "output_type": "stream",
     "text": [
      "+--------------------+\n",
      "|                 col|\n",
      "+--------------------+\n",
      "|     [1001, Regular]|\n",
      "|   [1002, Chocolate]|\n",
      "|   [1003, Blueberry]|\n",
      "|[1004, Devil's Food]|\n",
      "+--------------------+\n",
      "\n"
     ]
    }
   ],
   "source": [
    "df.select(explode('batters.batter')).show()"
   ]
  },
  {
   "cell_type": "markdown",
   "id": "77541bb0",
   "metadata": {},
   "source": [
    "### Criando a coluna topping_explode, contendo os dados de explode(topping)"
   ]
  },
  {
   "cell_type": "code",
   "execution_count": 43,
   "id": "c53a8063",
   "metadata": {
    "scrolled": true
   },
   "outputs": [],
   "source": [
    "df2 = df.withColumn('topping_explode', explode('topping'))"
   ]
  },
  {
   "cell_type": "code",
   "execution_count": 44,
   "id": "2d2c93ea",
   "metadata": {},
   "outputs": [
    {
     "name": "stdout",
     "output_type": "stream",
     "text": [
      "+--------------------+----+----+----+--------------------+-----+--------------------+\n",
      "|             batters|  id|name| ppu|             topping| type|     topping_explode|\n",
      "+--------------------+----+----+----+--------------------+-----+--------------------+\n",
      "|[[[1001, Regular]...|0001|Cake|0.55|[[5001, None], [5...|donut|        [5001, None]|\n",
      "|[[[1001, Regular]...|0001|Cake|0.55|[[5001, None], [5...|donut|      [5002, Glazed]|\n",
      "|[[[1001, Regular]...|0001|Cake|0.55|[[5001, None], [5...|donut|       [5005, Sugar]|\n",
      "|[[[1001, Regular]...|0001|Cake|0.55|[[5001, None], [5...|donut|[5007, Powdered S...|\n",
      "|[[[1001, Regular]...|0001|Cake|0.55|[[5001, None], [5...|donut|[5006, Chocolate ...|\n",
      "|[[[1001, Regular]...|0001|Cake|0.55|[[5001, None], [5...|donut|   [5003, Chocolate]|\n",
      "|[[[1001, Regular]...|0001|Cake|0.55|[[5001, None], [5...|donut|       [5004, Maple]|\n",
      "+--------------------+----+----+----+--------------------+-----+--------------------+\n",
      "\n"
     ]
    }
   ],
   "source": [
    "df2.show()"
   ]
  },
  {
   "cell_type": "markdown",
   "id": "01c756f7",
   "metadata": {},
   "source": [
    "### Criação das colunas contendo os id e os tipos de topping, bem como a deleção das colunas topping e topping_explode"
   ]
  },
  {
   "cell_type": "code",
   "execution_count": 45,
   "id": "417822d8",
   "metadata": {},
   "outputs": [],
   "source": [
    "df2 = df2.withColumn('topping_id', col('topping_explode.id')\n",
    "        ).withColumn('topping_type', col('topping_explode.type')\n",
    "        ).drop('topping', 'topping_explode')"
   ]
  },
  {
   "cell_type": "code",
   "execution_count": 46,
   "id": "8dc5d544",
   "metadata": {},
   "outputs": [
    {
     "name": "stdout",
     "output_type": "stream",
     "text": [
      "+--------------------+----+----+----+-----+----------+--------------------+\n",
      "|             batters|  id|name| ppu| type|topping_id|        topping_type|\n",
      "+--------------------+----+----+----+-----+----------+--------------------+\n",
      "|[[[1001, Regular]...|0001|Cake|0.55|donut|      5001|                None|\n",
      "|[[[1001, Regular]...|0001|Cake|0.55|donut|      5002|              Glazed|\n",
      "|[[[1001, Regular]...|0001|Cake|0.55|donut|      5005|               Sugar|\n",
      "|[[[1001, Regular]...|0001|Cake|0.55|donut|      5007|      Powdered Sugar|\n",
      "|[[[1001, Regular]...|0001|Cake|0.55|donut|      5006|Chocolate with Sp...|\n",
      "|[[[1001, Regular]...|0001|Cake|0.55|donut|      5003|           Chocolate|\n",
      "|[[[1001, Regular]...|0001|Cake|0.55|donut|      5004|               Maple|\n",
      "+--------------------+----+----+----+-----+----------+--------------------+\n",
      "\n"
     ]
    }
   ],
   "source": [
    "df2.show()"
   ]
  },
  {
   "cell_type": "markdown",
   "id": "7468a371",
   "metadata": {},
   "source": [
    "### Criando a coluna batter_explode, contendo os dados de explode(batter.batters)"
   ]
  },
  {
   "cell_type": "code",
   "execution_count": 48,
   "id": "327f1801",
   "metadata": {},
   "outputs": [],
   "source": [
    "df2 = df2.withColumn('batter_explode', explode('batters.batter'))"
   ]
  },
  {
   "cell_type": "code",
   "execution_count": 49,
   "id": "84398dde",
   "metadata": {},
   "outputs": [
    {
     "name": "stdout",
     "output_type": "stream",
     "text": [
      "+--------------------+----+----+----+-----+----------+--------------------+--------------------+\n",
      "|             batters|  id|name| ppu| type|topping_id|        topping_type|      batter_explode|\n",
      "+--------------------+----+----+----+-----+----------+--------------------+--------------------+\n",
      "|[[[1001, Regular]...|0001|Cake|0.55|donut|      5001|                None|     [1001, Regular]|\n",
      "|[[[1001, Regular]...|0001|Cake|0.55|donut|      5001|                None|   [1002, Chocolate]|\n",
      "|[[[1001, Regular]...|0001|Cake|0.55|donut|      5001|                None|   [1003, Blueberry]|\n",
      "|[[[1001, Regular]...|0001|Cake|0.55|donut|      5001|                None|[1004, Devil's Food]|\n",
      "|[[[1001, Regular]...|0001|Cake|0.55|donut|      5002|              Glazed|     [1001, Regular]|\n",
      "|[[[1001, Regular]...|0001|Cake|0.55|donut|      5002|              Glazed|   [1002, Chocolate]|\n",
      "|[[[1001, Regular]...|0001|Cake|0.55|donut|      5002|              Glazed|   [1003, Blueberry]|\n",
      "|[[[1001, Regular]...|0001|Cake|0.55|donut|      5002|              Glazed|[1004, Devil's Food]|\n",
      "|[[[1001, Regular]...|0001|Cake|0.55|donut|      5005|               Sugar|     [1001, Regular]|\n",
      "|[[[1001, Regular]...|0001|Cake|0.55|donut|      5005|               Sugar|   [1002, Chocolate]|\n",
      "|[[[1001, Regular]...|0001|Cake|0.55|donut|      5005|               Sugar|   [1003, Blueberry]|\n",
      "|[[[1001, Regular]...|0001|Cake|0.55|donut|      5005|               Sugar|[1004, Devil's Food]|\n",
      "|[[[1001, Regular]...|0001|Cake|0.55|donut|      5007|      Powdered Sugar|     [1001, Regular]|\n",
      "|[[[1001, Regular]...|0001|Cake|0.55|donut|      5007|      Powdered Sugar|   [1002, Chocolate]|\n",
      "|[[[1001, Regular]...|0001|Cake|0.55|donut|      5007|      Powdered Sugar|   [1003, Blueberry]|\n",
      "|[[[1001, Regular]...|0001|Cake|0.55|donut|      5007|      Powdered Sugar|[1004, Devil's Food]|\n",
      "|[[[1001, Regular]...|0001|Cake|0.55|donut|      5006|Chocolate with Sp...|     [1001, Regular]|\n",
      "|[[[1001, Regular]...|0001|Cake|0.55|donut|      5006|Chocolate with Sp...|   [1002, Chocolate]|\n",
      "|[[[1001, Regular]...|0001|Cake|0.55|donut|      5006|Chocolate with Sp...|   [1003, Blueberry]|\n",
      "|[[[1001, Regular]...|0001|Cake|0.55|donut|      5006|Chocolate with Sp...|[1004, Devil's Food]|\n",
      "+--------------------+----+----+----+-----+----------+--------------------+--------------------+\n",
      "only showing top 20 rows\n",
      "\n"
     ]
    }
   ],
   "source": [
    "df2.show()"
   ]
  },
  {
   "cell_type": "markdown",
   "id": "136d7f11",
   "metadata": {},
   "source": [
    "### Criação das colunas contendo os id e os tipos de batter, bem como a deleção das colunas batters e batter_explode"
   ]
  },
  {
   "cell_type": "code",
   "execution_count": 51,
   "id": "d701c5da",
   "metadata": {},
   "outputs": [],
   "source": [
    "df2 = df2.withColumn('batter_id', col('batter_explode.id')\n",
    "        ).withColumn('batter_type', col('batter_explode.type')\n",
    "        ).drop('batters', 'batter_explode')"
   ]
  },
  {
   "cell_type": "code",
   "execution_count": 52,
   "id": "5c8f86fa",
   "metadata": {},
   "outputs": [
    {
     "name": "stdout",
     "output_type": "stream",
     "text": [
      "+----+----+----+-----+----------+--------------------+---------+------------+\n",
      "|  id|name| ppu| type|topping_id|        topping_type|batter_id| batter_type|\n",
      "+----+----+----+-----+----------+--------------------+---------+------------+\n",
      "|0001|Cake|0.55|donut|      5001|                None|     1001|     Regular|\n",
      "|0001|Cake|0.55|donut|      5001|                None|     1002|   Chocolate|\n",
      "|0001|Cake|0.55|donut|      5001|                None|     1003|   Blueberry|\n",
      "|0001|Cake|0.55|donut|      5001|                None|     1004|Devil's Food|\n",
      "|0001|Cake|0.55|donut|      5002|              Glazed|     1001|     Regular|\n",
      "|0001|Cake|0.55|donut|      5002|              Glazed|     1002|   Chocolate|\n",
      "|0001|Cake|0.55|donut|      5002|              Glazed|     1003|   Blueberry|\n",
      "|0001|Cake|0.55|donut|      5002|              Glazed|     1004|Devil's Food|\n",
      "|0001|Cake|0.55|donut|      5005|               Sugar|     1001|     Regular|\n",
      "|0001|Cake|0.55|donut|      5005|               Sugar|     1002|   Chocolate|\n",
      "|0001|Cake|0.55|donut|      5005|               Sugar|     1003|   Blueberry|\n",
      "|0001|Cake|0.55|donut|      5005|               Sugar|     1004|Devil's Food|\n",
      "|0001|Cake|0.55|donut|      5007|      Powdered Sugar|     1001|     Regular|\n",
      "|0001|Cake|0.55|donut|      5007|      Powdered Sugar|     1002|   Chocolate|\n",
      "|0001|Cake|0.55|donut|      5007|      Powdered Sugar|     1003|   Blueberry|\n",
      "|0001|Cake|0.55|donut|      5007|      Powdered Sugar|     1004|Devil's Food|\n",
      "|0001|Cake|0.55|donut|      5006|Chocolate with Sp...|     1001|     Regular|\n",
      "|0001|Cake|0.55|donut|      5006|Chocolate with Sp...|     1002|   Chocolate|\n",
      "|0001|Cake|0.55|donut|      5006|Chocolate with Sp...|     1003|   Blueberry|\n",
      "|0001|Cake|0.55|donut|      5006|Chocolate with Sp...|     1004|Devil's Food|\n",
      "+----+----+----+-----+----------+--------------------+---------+------------+\n",
      "only showing top 20 rows\n",
      "\n"
     ]
    }
   ],
   "source": [
    "df2.show()"
   ]
  }
 ],
 "metadata": {
  "kernelspec": {
   "display_name": "Python 3 (ipykernel)",
   "language": "python",
   "name": "python3"
  },
  "language_info": {
   "codemirror_mode": {
    "name": "ipython",
    "version": 3
   },
   "file_extension": ".py",
   "mimetype": "text/x-python",
   "name": "python",
   "nbconvert_exporter": "python",
   "pygments_lexer": "ipython3",
   "version": "3.8.10"
  }
 },
 "nbformat": 4,
 "nbformat_minor": 5
}
