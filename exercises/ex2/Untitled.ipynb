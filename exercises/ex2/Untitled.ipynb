{
 "cells": [
  {
   "cell_type": "code",
   "execution_count": 1,
   "id": "c76a1ecc",
   "metadata": {},
   "outputs": [],
   "source": [
    "import pyspark\n",
    "from pyspark.sql import SparkSession\n",
    "from pyspark import SparkContext\n",
    "from pyspark.sql.functions import *\n",
    "from pyspark.sql import Row, Window\n",
    "from pyspark.sql.types import IntegerType"
   ]
  },
  {
   "cell_type": "code",
   "execution_count": 2,
   "id": "6d30cce1",
   "metadata": {
    "scrolled": true
   },
   "outputs": [
    {
     "name": "stderr",
     "output_type": "stream",
     "text": [
      "22/07/04 16:03:53 WARN Utils: Your hostname, computador resolves to a loopback address: 127.0.1.1; using 10.0.0.135 instead (on interface wlp2s0)\n",
      "22/07/04 16:03:53 WARN Utils: Set SPARK_LOCAL_IP if you need to bind to another address\n",
      "WARNING: An illegal reflective access operation has occurred\n",
      "WARNING: Illegal reflective access by org.apache.spark.unsafe.Platform (file:/home/edson/spark/spark-3.0.3-bin-hadoop3.2/jars/spark-unsafe_2.12-3.0.3.jar) to constructor java.nio.DirectByteBuffer(long,int)\n",
      "WARNING: Please consider reporting this to the maintainers of org.apache.spark.unsafe.Platform\n",
      "WARNING: Use --illegal-access=warn to enable warnings of further illegal reflective access operations\n",
      "WARNING: All illegal access operations will be denied in a future release\n",
      "22/07/04 16:03:54 WARN NativeCodeLoader: Unable to load native-hadoop library for your platform... using builtin-java classes where applicable\n",
      "Using Spark's default log4j profile: org/apache/spark/log4j-defaults.properties\n",
      "Setting default log level to \"WARN\".\n",
      "To adjust logging level use sc.setLogLevel(newLevel). For SparkR, use setLogLevel(newLevel).\n"
     ]
    }
   ],
   "source": [
    "spark = SparkSession.builder \\\n",
    "    .master(\"local\") \\\n",
    "    .config(\"spark.sql.autoBroadcastJoinThreshold\", -1) \\\n",
    "    .config(\"spark.executor.memory\", \"500mb\") \\\n",
    "    .appName(\"Ex2\") \\\n",
    "    .getOrCreate()"
   ]
  },
  {
   "cell_type": "markdown",
   "id": "39399991",
   "metadata": {},
   "source": [
    "## Encontrar o número de pedidos, o número de produtos e o número de vendedores."
   ]
  },
  {
   "cell_type": "code",
   "execution_count": 3,
   "id": "9e8a7060",
   "metadata": {},
   "outputs": [
    {
     "name": "stderr",
     "output_type": "stream",
     "text": [
      "\r",
      "[Stage 0:>                                                          (0 + 1) / 1]\r",
      "\r",
      "                                                                                \r"
     ]
    }
   ],
   "source": [
    "tabela_produtos = spark.read.parquet('./data/products_parquet/')\n",
    "tabela_vendedores = spark.read.parquet('./data/sellers_parquet/')\n",
    "tabela_vendas = spark.read.parquet('./data/sales_parquet/')"
   ]
  },
  {
   "cell_type": "code",
   "execution_count": 4,
   "id": "94f77b53",
   "metadata": {},
   "outputs": [
    {
     "name": "stderr",
     "output_type": "stream",
     "text": [
      "                                                                                \r"
     ]
    }
   ],
   "source": [
    "num_produtos = tabela_produtos.count()\n",
    "num_vendas = tabela_vendas.count()\n",
    "num_vendedores = tabela_vendedores.count()"
   ]
  },
  {
   "cell_type": "code",
   "execution_count": 5,
   "id": "7508876f",
   "metadata": {},
   "outputs": [
    {
     "name": "stdout",
     "output_type": "stream",
     "text": [
      "O número de produtos é: 75000000\n",
      "O número de vendas é: 20000040\n",
      "O número de vendedores é: 10\n"
     ]
    }
   ],
   "source": [
    "print(f'O número de produtos é: {num_produtos}')\n",
    "print(f'O número de vendas é: {num_vendas}')\n",
    "print(f'O número de vendedores é: {num_vendedores}')"
   ]
  },
  {
   "cell_type": "markdown",
   "id": "891a4f22",
   "metadata": {},
   "source": [
    "## Número de produtos vendidos, no mínimo, uma vez"
   ]
  },
  {
   "cell_type": "code",
   "execution_count": 7,
   "id": "b8f00eee",
   "metadata": {},
   "outputs": [
    {
     "name": "stderr",
     "output_type": "stream",
     "text": [
      "[Stage 10:================================================>     (178 + 1) / 200]\r"
     ]
    },
    {
     "name": "stdout",
     "output_type": "stream",
     "text": [
      "+-----------------+\n",
      "|count(product_id)|\n",
      "+-----------------+\n",
      "|           993429|\n",
      "+-----------------+\n",
      "\n"
     ]
    },
    {
     "name": "stderr",
     "output_type": "stream",
     "text": [
      "\r",
      "[Stage 10:=====================================================>(197 + 1) / 200]\r",
      "\r",
      "                                                                                \r"
     ]
    }
   ],
   "source": [
    "tabela_vendas.agg(countDistinct(col('product_id'))).show()"
   ]
  },
  {
   "cell_type": "markdown",
   "id": "32435c07",
   "metadata": {},
   "source": [
    "## Produto mais vendido"
   ]
  },
  {
   "cell_type": "code",
   "execution_count": 8,
   "id": "3bd4aa96",
   "metadata": {
    "scrolled": true
   },
   "outputs": [
    {
     "name": "stderr",
     "output_type": "stream",
     "text": [
      "[Stage 13:===================================================>  (192 + 1) / 200]\r"
     ]
    },
    {
     "name": "stdout",
     "output_type": "stream",
     "text": [
      "+----------+--------+\n",
      "|product_id|     cnt|\n",
      "+----------+--------+\n",
      "|         0|19000000|\n",
      "+----------+--------+\n",
      "\n"
     ]
    },
    {
     "name": "stderr",
     "output_type": "stream",
     "text": [
      "\r",
      "                                                                                \r"
     ]
    }
   ],
   "source": [
    "tabela_vendas.groupBy(col('product_id')).agg(count(\"*\").alias(\"cnt\")).orderBy(col(\"cnt\").desc()).limit(1).show()"
   ]
  },
  {
   "cell_type": "markdown",
   "id": "3db787d9",
   "metadata": {},
   "source": [
    "## Número de produtos distintos vendidos em cada dia"
   ]
  },
  {
   "cell_type": "code",
   "execution_count": 9,
   "id": "158db56a",
   "metadata": {},
   "outputs": [
    {
     "name": "stderr",
     "output_type": "stream",
     "text": [
      "[Stage 17:==========================================>           (159 + 1) / 200]\r"
     ]
    },
    {
     "name": "stdout",
     "output_type": "stream",
     "text": [
      "+----------+---------------------+\n",
      "|      date|distinct_product_sold|\n",
      "+----------+---------------------+\n",
      "|2020-07-06|               100765|\n",
      "|2020-07-09|               100501|\n",
      "|2020-07-01|               100337|\n",
      "|2020-07-03|               100017|\n",
      "|2020-07-02|                99807|\n",
      "|2020-07-05|                99796|\n",
      "|2020-07-04|                99791|\n",
      "|2020-07-07|                99756|\n",
      "|2020-07-08|                99662|\n",
      "|2020-07-10|                98973|\n",
      "+----------+---------------------+\n",
      "\n"
     ]
    },
    {
     "name": "stderr",
     "output_type": "stream",
     "text": [
      "\r",
      "[Stage 17:===================================================>  (190 + 1) / 200]\r",
      "\r",
      "                                                                                \r"
     ]
    }
   ],
   "source": [
    "tabela_vendas.groupBy(col('date')).agg(countDistinct(col('product_id')).alias('distinct_product_sold')).orderBy(\n",
    "            col('distinct_product_sold').desc()).show()"
   ]
  },
  {
   "cell_type": "markdown",
   "id": "0bbed671",
   "metadata": {},
   "source": [
    "## Retorno médio das ordens"
   ]
  },
  {
   "cell_type": "code",
   "execution_count": 23,
   "id": "5045e04f",
   "metadata": {
    "scrolled": true
   },
   "outputs": [
    {
     "name": "stderr",
     "output_type": "stream",
     "text": [
      "[Stage 26:=====================================================>(199 + 1) / 200]\r"
     ]
    },
    {
     "name": "stdout",
     "output_type": "stream",
     "text": [
      "+------------------------------+\n",
      "|avg((price * num_pieces_sold))|\n",
      "+------------------------------+\n",
      "|            1246.1338560822878|\n",
      "+------------------------------+\n",
      "\n"
     ]
    },
    {
     "name": "stderr",
     "output_type": "stream",
     "text": [
      "\r",
      "                                                                                \r"
     ]
    }
   ],
   "source": [
    "tabela_vendas.join(\n",
    "    tabela_produtos, tabela_vendas['product_id'] == tabela_produtos['product_id'], 'inner'\n",
    "    ).agg(avg(tabela_produtos['price'] * tabela_vendas['num_pieces_sold'])).show()"
   ]
  },
  {
   "cell_type": "markdown",
   "id": "868f30ea",
   "metadata": {},
   "source": [
    "## Para cada vendedor, qual a contribuição média percentual de uma ordem, para a quota diária do vendedor"
   ]
  },
  {
   "cell_type": "code",
   "execution_count": 29,
   "id": "94841ff2",
   "metadata": {},
   "outputs": [
    {
     "name": "stderr",
     "output_type": "stream",
     "text": [
      "                                                                                \r"
     ]
    },
    {
     "name": "stdout",
     "output_type": "stream",
     "text": [
      "+---------+--------------------+\n",
      "|seller_id|          avg(ratio)|\n",
      "+---------+--------------------+\n",
      "|        7|2.595228787788170...|\n",
      "|        3| 1.62888537056594E-4|\n",
      "|        8|9.213030375408861E-5|\n",
      "|        0|2.019885898946922...|\n",
      "|        5|4.211073965904022E-5|\n",
      "|        6|4.782147194369122E-5|\n",
      "|        9|3.837913136180238E-5|\n",
      "|        1|1.964233366461014...|\n",
      "|        4|3.296428039825817E-5|\n",
      "|        2|6.690408001060484E-5|\n",
      "+---------+--------------------+\n",
      "\n",
      "None\n"
     ]
    }
   ],
   "source": [
    "print(tabela_vendas.join(broadcast(tabela_vendedores), tabela_vendas[\"seller_id\"] == tabela_vendedores[\"seller_id\"], \"inner\").withColumn(\n",
    "    \"ratio\", tabela_vendas[\"num_pieces_sold\"]/tabela_vendedores[\"daily_target\"]\n",
    ").groupBy(tabela_vendas[\"seller_id\"]).agg(avg(\"ratio\")).show())"
   ]
  },
  {
   "cell_type": "markdown",
   "id": "17f11a86",
   "metadata": {},
   "source": [
    "## Quem são o segundo maior vendedor e o menor vendedor para cada produto? Quem são aqueles com produtos iguais á \"product_id = 0\""
   ]
  },
  {
   "cell_type": "markdown",
   "id": "755f55ba",
   "metadata": {},
   "source": [
    "### Calculando o número de produtos vendidos por cada vendedor\n"
   ]
  },
  {
   "cell_type": "code",
   "execution_count": 32,
   "id": "157c7b1d",
   "metadata": {},
   "outputs": [],
   "source": [
    "tabela_vendas = tabela_vendas.groupBy(\n",
    "    col('product_id'), col('seller_id')\n",
    "    ).agg(sum('num_pieces_sold').alias('num_pieces_sold'))"
   ]
  },
  {
   "cell_type": "markdown",
   "id": "941c17e6",
   "metadata": {},
   "source": [
    "### Cria-se as funções Window, uma para ordenar de modo crescente e a outra para modo decrescente\n",
    "### Particiona-se por product_id e ordena por produtos vendidos\n"
   ]
  },
  {
   "cell_type": "code",
   "execution_count": 33,
   "id": "d771dae5",
   "metadata": {},
   "outputs": [],
   "source": [
    "window_desc = Window.partitionBy(col('product_id')).orderBy(col('num_pieces_sold').desc())\n",
    "window_asc = Window.partitionBy(col('product_id')).orderBy(col('num_pieces_sold').asc())\n"
   ]
  },
  {
   "cell_type": "markdown",
   "id": "75265b01",
   "metadata": {},
   "source": [
    "### Cria-se um Dense rank, para não ocorrer furos\n"
   ]
  },
  {
   "cell_type": "code",
   "execution_count": 34,
   "id": "7b2fe13e",
   "metadata": {},
   "outputs": [],
   "source": [
    "tabela_vendas = tabela_vendas.withColumn(\n",
    "    'rank_asc', dense_rank().over(window_asc)\n",
    ").withColumn('rank_desc', dense_rank().over(window_desc))"
   ]
  },
  {
   "cell_type": "markdown",
   "id": "2b0c72a6",
   "metadata": {},
   "source": [
    "### Seleção de produtos com apenas um único vendedor, ou produtos, quais múltiplos vendedores venderam a mesma quantidade\n"
   ]
  },
  {
   "cell_type": "code",
   "execution_count": 39,
   "id": "26a44ab2",
   "metadata": {
    "scrolled": true
   },
   "outputs": [],
   "source": [
    "vendedores_especiais = tabela_vendas.where(col('rank_asc') == col('rank_desc')).select(\n",
    "    col('product_id').alias('single_seller_product_id'), col('seller_id').alias('single_seller_seller_id'),\n",
    "        lit('único vendedor ou múltiplos vendedores com os mesmos resultados').alias('type'))"
   ]
  },
  {
   "cell_type": "code",
   "execution_count": null,
   "id": "4253b32c",
   "metadata": {},
   "outputs": [],
   "source": []
  },
  {
   "cell_type": "code",
   "execution_count": 44,
   "id": "e7756147",
   "metadata": {},
   "outputs": [],
   "source": [
    "## Segundo vendedor que mais vendeu\n",
    "\n",
    "segundo_vendedor = tabela_vendas.where(col('rank_desc') == 2).select(\n",
    "    col('product_id').alias('second_seller_product_id'), col('seller_id').alias('second_seller_seller_id'),\n",
    "    lit('segundo maior vendedor').alias('type')\n",
    ")"
   ]
  },
  {
   "cell_type": "markdown",
   "id": "e9c463d5",
   "metadata": {},
   "source": [
    "### Seleção do vendedor que menos vendeu, exclusão das colunas já incluídas e do segundo vendedor que mais vendeu\n"
   ]
  },
  {
   "cell_type": "code",
   "execution_count": 50,
   "id": "eb0646f8",
   "metadata": {},
   "outputs": [],
   "source": [
    "ultimo_vendedor = tabela_vendas.where(col('rank_asc') == 1).select(\n",
    "    col('product_id'),\n",
    "    col('seller_id'),\n",
    "    lit('ultimo vendedor').alias('type')\n",
    ").join(vendedores_especiais, (\n",
    "    tabela_vendas['seller_id'] == vendedores_especiais['single_seller_seller_id']\n",
    "    ) & (\n",
    "    tabela_vendas['product_id'] == vendedores_especiais['single_seller_product_id']), 'left_anti'\n",
    "    ).join(segundo_vendedor, (\n",
    "        tabela_vendas['seller_id'] == segundo_vendedor['second_seller_seller_id']\n",
    "        ) & (\n",
    "        tabela_vendas['product_id'] == segundo_vendedor['second_seller_product_id']), 'left_anti')"
   ]
  },
  {
   "cell_type": "code",
   "execution_count": 52,
   "id": "d9b1bcf5",
   "metadata": {
    "scrolled": true
   },
   "outputs": [
    {
     "name": "stderr",
     "output_type": "stream",
     "text": [
      "[Stage 121:===============================================>       (82 + 1) / 94]\r"
     ]
    },
    {
     "name": "stdout",
     "output_type": "stream",
     "text": [
      "+----------+---------+---------------+\n",
      "|product_id|seller_id|           type|\n",
      "+----------+---------+---------------+\n",
      "|  19986717|        1|ultimo vendedor|\n",
      "|  40496308|        5|ultimo vendedor|\n",
      "|  52606213|        7|ultimo vendedor|\n",
      "|  14542470|        5|ultimo vendedor|\n",
      "|  28592106|        5|ultimo vendedor|\n",
      "|  17944574|        8|ultimo vendedor|\n",
      "|  61475460|        7|ultimo vendedor|\n",
      "|   3534470|        3|ultimo vendedor|\n",
      "|  35669461|        4|ultimo vendedor|\n",
      "|  32602520|        9|ultimo vendedor|\n",
      "|  72017876|        1|ultimo vendedor|\n",
      "|  67723231|        5|ultimo vendedor|\n",
      "|  56011040|        5|ultimo vendedor|\n",
      "|  34681047|        5|ultimo vendedor|\n",
      "|  57735075|        9|ultimo vendedor|\n",
      "|  18182299|        7|ultimo vendedor|\n",
      "|  69790381|        5|ultimo vendedor|\n",
      "|  31136332|        9|ultimo vendedor|\n",
      "|  10978356|        7|ultimo vendedor|\n",
      "|  20774718|        9|ultimo vendedor|\n",
      "+----------+---------+---------------+\n",
      "only showing top 20 rows\n",
      "\n"
     ]
    },
    {
     "name": "stderr",
     "output_type": "stream",
     "text": [
      "\r",
      "[Stage 121:====================================================>  (90 + 1) / 94]\r",
      "\r",
      "                                                                                \r"
     ]
    }
   ],
   "source": [
    "## União\n",
    "\n",
    "union_table = ultimo_vendedor.select(\n",
    "    col('product_id'),\n",
    "    col('seller_id'),\n",
    "    col('type')\n",
    ").union(segundo_vendedor.select(\n",
    "    col('second_seller_product_id').alias('product_id'),\n",
    "    col('second_seller_seller_id').alias('seller_id'),\n",
    "    col('type')\n",
    ")).union(vendedores_especiais.select(\n",
    "    col('single_seller_product_id').alias('product_id'),\n",
    "    col('single_seller_seller_id').alias('seller_id'),\n",
    "    col('type')\n",
    "))\n",
    "\n",
    "union_table.show()"
   ]
  },
  {
   "cell_type": "markdown",
   "id": "8994af92",
   "metadata": {},
   "source": [
    "### Segundo maior vendedor e último vendedor para product_id == 0\n"
   ]
  },
  {
   "cell_type": "code",
   "execution_count": 55,
   "id": "ede203f8",
   "metadata": {},
   "outputs": [
    {
     "name": "stderr",
     "output_type": "stream",
     "text": [
      "[Stage 151:==================================================>  (454 + 1) / 475]\r"
     ]
    },
    {
     "name": "stdout",
     "output_type": "stream",
     "text": [
      "+----------+---------+--------------------+\n",
      "|product_id|seller_id|                type|\n",
      "+----------+---------+--------------------+\n",
      "|         0|        0|único vendedor ou...|\n",
      "+----------+---------+--------------------+\n",
      "\n"
     ]
    },
    {
     "name": "stderr",
     "output_type": "stream",
     "text": [
      "\r",
      "[Stage 151:====================================================>(472 + 1) / 475]\r",
      "\r",
      "                                                                                \r"
     ]
    }
   ],
   "source": [
    "union_table.where(col('product_id') == 0).show()"
   ]
  }
 ],
 "metadata": {
  "kernelspec": {
   "display_name": "Python 3 (ipykernel)",
   "language": "python",
   "name": "python3"
  },
  "language_info": {
   "codemirror_mode": {
    "name": "ipython",
    "version": 3
   },
   "file_extension": ".py",
   "mimetype": "text/x-python",
   "name": "python",
   "nbconvert_exporter": "python",
   "pygments_lexer": "ipython3",
   "version": "3.8.10"
  }
 },
 "nbformat": 4,
 "nbformat_minor": 5
}
