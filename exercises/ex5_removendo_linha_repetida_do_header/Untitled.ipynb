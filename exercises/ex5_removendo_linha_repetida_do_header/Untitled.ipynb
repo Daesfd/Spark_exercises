{
 "cells": [
  {
   "cell_type": "markdown",
   "id": "5c3d9727",
   "metadata": {},
   "source": [
    "# Como retirar linhas repetidas do header"
   ]
  },
  {
   "cell_type": "code",
   "execution_count": 2,
   "id": "0fea3415",
   "metadata": {},
   "outputs": [],
   "source": [
    "import pyspark\n",
    "from pyspark.sql import SparkSession\n",
    "from pyspark.sql.functions import *\n",
    "from pyspark import SparkContext"
   ]
  },
  {
   "cell_type": "code",
   "execution_count": 3,
   "id": "20a37c51",
   "metadata": {},
   "outputs": [
    {
     "name": "stderr",
     "output_type": "stream",
     "text": [
      "22/07/04 16:23:30 WARN Utils: Your hostname, computador resolves to a loopback address: 127.0.1.1; using 10.0.0.135 instead (on interface wlp2s0)\n",
      "22/07/04 16:23:30 WARN Utils: Set SPARK_LOCAL_IP if you need to bind to another address\n",
      "WARNING: An illegal reflective access operation has occurred\n",
      "WARNING: Illegal reflective access by org.apache.spark.unsafe.Platform (file:/home/edson/spark/spark-3.0.3-bin-hadoop3.2/jars/spark-unsafe_2.12-3.0.3.jar) to constructor java.nio.DirectByteBuffer(long,int)\n",
      "WARNING: Please consider reporting this to the maintainers of org.apache.spark.unsafe.Platform\n",
      "WARNING: Use --illegal-access=warn to enable warnings of further illegal reflective access operations\n",
      "WARNING: All illegal access operations will be denied in a future release\n",
      "22/07/04 16:23:30 WARN NativeCodeLoader: Unable to load native-hadoop library for your platform... using builtin-java classes where applicable\n",
      "Using Spark's default log4j profile: org/apache/spark/log4j-defaults.properties\n",
      "Setting default log level to \"WARN\".\n",
      "To adjust logging level use sc.setLogLevel(newLevel). For SparkR, use setLogLevel(newLevel).\n"
     ]
    }
   ],
   "source": [
    "spark = SparkSession.builder \\\n",
    "    .master(\"local\") \\\n",
    "    .config(\"spark.sql.autoBroadcastJoinThreshold\", -1) \\\n",
    "    .config(\"spark.executor.memory\", \"500mb\") \\\n",
    "    .appName(\"Ex5\") \\\n",
    "    .getOrCreate()"
   ]
  },
  {
   "cell_type": "code",
   "execution_count": 4,
   "id": "39b1bc86",
   "metadata": {},
   "outputs": [],
   "source": [
    "df = spark.read.csv('./data/data.csv')"
   ]
  },
  {
   "cell_type": "code",
   "execution_count": 5,
   "id": "71727058",
   "metadata": {
    "scrolled": true
   },
   "outputs": [
    {
     "name": "stdout",
     "output_type": "stream",
     "text": [
      "+-------+\n",
      "|    _c0|\n",
      "+-------+\n",
      "|Linha 1|\n",
      "|Linha 2|\n",
      "|Linha 3|\n",
      "|     Id|\n",
      "|      1|\n",
      "|      2|\n",
      "|      3|\n",
      "|      4|\n",
      "|      5|\n",
      "+-------+\n",
      "\n"
     ]
    }
   ],
   "source": [
    "df.show()"
   ]
  },
  {
   "cell_type": "code",
   "execution_count": 7,
   "id": "c764b700",
   "metadata": {},
   "outputs": [],
   "source": [
    "sc = SparkContext.getOrCreate()"
   ]
  },
  {
   "cell_type": "code",
   "execution_count": 8,
   "id": "880bbeb1",
   "metadata": {},
   "outputs": [],
   "source": [
    "rdd = sc.textFile('./data/data.csv')"
   ]
  },
  {
   "cell_type": "markdown",
   "id": "fa50d0fd",
   "metadata": {},
   "source": [
    "## Indexação dos elementos, assim, o primeiro elemento ganha o índicie 0 até o último elemento ganhar índicie 8\n"
   ]
  },
  {
   "cell_type": "code",
   "execution_count": 9,
   "id": "2bafa906",
   "metadata": {},
   "outputs": [
    {
     "data": {
      "text/plain": [
       "[('Linha 1', 0),\n",
       " ('Linha 2', 1),\n",
       " ('Linha 3', 2),\n",
       " ('Id,Nome,Estado', 3),\n",
       " ('1,Pedro,SP', 4),\n",
       " ('2,Maria,RJ', 5),\n",
       " ('3,Ana,SP', 6),\n",
       " ('4,Joao,MG', 7),\n",
       " ('5,Lucas,SC', 8)]"
      ]
     },
     "execution_count": 9,
     "metadata": {},
     "output_type": "execute_result"
    }
   ],
   "source": [
    "rdd.zipWithIndex().collect()"
   ]
  },
  {
   "cell_type": "markdown",
   "id": "55dda592",
   "metadata": {},
   "source": [
    "## Filtra-se os índicies, coletando apenas os índicies maiores que 2 \n"
   ]
  },
  {
   "cell_type": "code",
   "execution_count": 10,
   "id": "368d9f2b",
   "metadata": {},
   "outputs": [
    {
     "data": {
      "text/plain": [
       "[('Id,Nome,Estado', 3),\n",
       " ('1,Pedro,SP', 4),\n",
       " ('2,Maria,RJ', 5),\n",
       " ('3,Ana,SP', 6),\n",
       " ('4,Joao,MG', 7),\n",
       " ('5,Lucas,SC', 8)]"
      ]
     },
     "execution_count": 10,
     "metadata": {},
     "output_type": "execute_result"
    }
   ],
   "source": [
    "rdd.zipWithIndex().filter(lambda x: x[1] > 2).collect()"
   ]
  },
  {
   "cell_type": "markdown",
   "id": "78e93cad",
   "metadata": {},
   "source": [
    "## Uso de map para dividir a tabela de acordo com os índicies da TABELA,\n",
    "## jogando fora os indicies criados pelo zipwithIndex()\n"
   ]
  },
  {
   "cell_type": "code",
   "execution_count": 11,
   "id": "097f5841",
   "metadata": {
    "scrolled": true
   },
   "outputs": [
    {
     "data": {
      "text/plain": [
       "['Id,Nome,Estado',\n",
       " '1,Pedro,SP',\n",
       " '2,Maria,RJ',\n",
       " '3,Ana,SP',\n",
       " '4,Joao,MG',\n",
       " '5,Lucas,SC']"
      ]
     },
     "execution_count": 11,
     "metadata": {},
     "output_type": "execute_result"
    }
   ],
   "source": [
    "rdd.zipWithIndex().filter(lambda x: x[1] > 2).map(lambda y: y[0]).collect()"
   ]
  },
  {
   "cell_type": "markdown",
   "id": "dbca7332",
   "metadata": {},
   "source": [
    "## Separando os elementos no índicie 0 da TABELA do resultado anterior\n"
   ]
  },
  {
   "cell_type": "code",
   "execution_count": 12,
   "id": "14288f02",
   "metadata": {
    "scrolled": false
   },
   "outputs": [
    {
     "data": {
      "text/plain": [
       "[['Id', 'Nome', 'Estado'],\n",
       " ['1', 'Pedro', 'SP'],\n",
       " ['2', 'Maria', 'RJ'],\n",
       " ['3', 'Ana', 'SP'],\n",
       " ['4', 'Joao', 'MG'],\n",
       " ['5', 'Lucas', 'SC']]"
      ]
     },
     "execution_count": 12,
     "metadata": {},
     "output_type": "execute_result"
    }
   ],
   "source": [
    "rdd.zipWithIndex().filter(lambda x: x[1] > 2).map(lambda y: y[0].split(',')).collect()"
   ]
  },
  {
   "cell_type": "code",
   "execution_count": 13,
   "id": "44f89af7",
   "metadata": {},
   "outputs": [],
   "source": [
    "rdd_final = rdd.zipWithIndex().filter(lambda x: x[1] > 2).map(lambda y: y[0].split(','))"
   ]
  },
  {
   "cell_type": "markdown",
   "id": "8029e748",
   "metadata": {},
   "source": [
    "## Criação do Header\n"
   ]
  },
  {
   "cell_type": "code",
   "execution_count": 14,
   "id": "985bb6de",
   "metadata": {
    "scrolled": true
   },
   "outputs": [],
   "source": [
    "colunas = rdd_final.collect()[0]"
   ]
  },
  {
   "cell_type": "code",
   "execution_count": 15,
   "id": "a4ddae81",
   "metadata": {},
   "outputs": [
    {
     "data": {
      "text/plain": [
       "['Id', 'Nome', 'Estado']"
      ]
     },
     "execution_count": 15,
     "metadata": {},
     "output_type": "execute_result"
    }
   ],
   "source": [
    "colunas"
   ]
  },
  {
   "cell_type": "markdown",
   "id": "90969f95",
   "metadata": {},
   "source": [
    "## Transformando o rdd em um DataFrame - Problema: há a repetição do header\n"
   ]
  },
  {
   "cell_type": "code",
   "execution_count": 16,
   "id": "4b8a63bf",
   "metadata": {
    "scrolled": false
   },
   "outputs": [
    {
     "name": "stdout",
     "output_type": "stream",
     "text": [
      "+---+-----+------+\n",
      "| Id| Nome|Estado|\n",
      "+---+-----+------+\n",
      "| Id| Nome|Estado|\n",
      "|  1|Pedro|    SP|\n",
      "|  2|Maria|    RJ|\n",
      "|  3|  Ana|    SP|\n",
      "|  4| Joao|    MG|\n",
      "|  5|Lucas|    SC|\n",
      "+---+-----+------+\n",
      "\n"
     ]
    }
   ],
   "source": [
    "rdd_final.toDF(colunas).show()"
   ]
  },
  {
   "cell_type": "code",
   "execution_count": 17,
   "id": "83b1d158",
   "metadata": {
    "scrolled": true
   },
   "outputs": [],
   "source": [
    "linha_pulavel = rdd_final.first()"
   ]
  },
  {
   "cell_type": "code",
   "execution_count": 18,
   "id": "66691796",
   "metadata": {},
   "outputs": [],
   "source": [
    "# Filtração do df, retirando o header repetido\n",
    "\n",
    "df = rdd_final.filter(lambda x: x != linha_pulavel).toDF(colunas)"
   ]
  },
  {
   "cell_type": "code",
   "execution_count": 19,
   "id": "818518ea",
   "metadata": {},
   "outputs": [
    {
     "name": "stdout",
     "output_type": "stream",
     "text": [
      "+---+-----+------+\n",
      "| Id| Nome|Estado|\n",
      "+---+-----+------+\n",
      "|  1|Pedro|    SP|\n",
      "|  2|Maria|    RJ|\n",
      "|  3|  Ana|    SP|\n",
      "|  4| Joao|    MG|\n",
      "|  5|Lucas|    SC|\n",
      "+---+-----+------+\n",
      "\n"
     ]
    }
   ],
   "source": [
    "df.show()"
   ]
  }
 ],
 "metadata": {
  "kernelspec": {
   "display_name": "Python 3 (ipykernel)",
   "language": "python",
   "name": "python3"
  },
  "language_info": {
   "codemirror_mode": {
    "name": "ipython",
    "version": 3
   },
   "file_extension": ".py",
   "mimetype": "text/x-python",
   "name": "python",
   "nbconvert_exporter": "python",
   "pygments_lexer": "ipython3",
   "version": "3.8.10"
  }
 },
 "nbformat": 4,
 "nbformat_minor": 5
}
