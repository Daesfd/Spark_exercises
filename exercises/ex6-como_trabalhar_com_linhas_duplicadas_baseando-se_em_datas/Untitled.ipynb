{
 "cells": [
  {
   "cell_type": "markdown",
   "id": "ce57aa34",
   "metadata": {},
   "source": [
    "# Data de Update duplicado e as datas como string"
   ]
  },
  {
   "cell_type": "markdown",
   "id": "8c51e303",
   "metadata": {},
   "source": [
    "## Usando drop_duplicates()"
   ]
  },
  {
   "cell_type": "code",
   "execution_count": 56,
   "id": "16be4486",
   "metadata": {},
   "outputs": [],
   "source": [
    "import pyspark\n",
    "from pyspark.sql import SparkSession\n",
    "from pyspark.sql.functions import *\n",
    "from pyspark.sql.window import Window"
   ]
  },
  {
   "cell_type": "code",
   "execution_count": 3,
   "id": "5bac6be1",
   "metadata": {},
   "outputs": [],
   "source": [
    "spark = SparkSession.builder \\\n",
    "    .master(\"local\") \\\n",
    "    .config(\"spark.sql.autoBroadcastJoinThreshold\", -1) \\\n",
    "    .config(\"spark.executor.memory\", \"500mb\") \\\n",
    "    .appName(\"Ex6\") \\\n",
    "    .getOrCreate()"
   ]
  },
  {
   "cell_type": "code",
   "execution_count": 19,
   "id": "57d9568b",
   "metadata": {},
   "outputs": [],
   "source": [
    "df = spark.read.csv('./data/data.csv', header=True, inferSchema=True)"
   ]
  },
  {
   "cell_type": "code",
   "execution_count": 20,
   "id": "66766c9d",
   "metadata": {
    "scrolled": true
   },
   "outputs": [
    {
     "name": "stdout",
     "output_type": "stream",
     "text": [
      "+---+------+------+--------------+\n",
      "| Id|  Nome|Estado|Data de Update|\n",
      "+---+------+------+--------------+\n",
      "|  1| Pedro|    SP|    01-01-2022|\n",
      "|  1| Pedro|    MG|    01-02-2022|\n",
      "|  1| Pedro|    RJ|    01-03-2022|\n",
      "|  2|   Ana|    SC|    01-01-2022|\n",
      "|  2|   Ana|    PR|    15-01-2022|\n",
      "|  3| Lucas|    SP|    03-01-2020|\n",
      "|  4| Maria|    RS|    01-01-2010|\n",
      "|  5|Marcos|    RN|    01-01-2022|\n",
      "|  4| Maria|    RJ|    31-12-2021|\n",
      "+---+------+------+--------------+\n",
      "\n"
     ]
    }
   ],
   "source": [
    "df.show()"
   ]
  },
  {
   "cell_type": "code",
   "execution_count": 21,
   "id": "223ad11d",
   "metadata": {},
   "outputs": [
    {
     "name": "stdout",
     "output_type": "stream",
     "text": [
      "root\n",
      " |-- Id: integer (nullable = true)\n",
      " |-- Nome: string (nullable = true)\n",
      " |-- Estado: string (nullable = true)\n",
      " |-- Data de Update: string (nullable = true)\n",
      "\n"
     ]
    }
   ],
   "source": [
    "df.printSchema()"
   ]
  },
  {
   "cell_type": "code",
   "execution_count": 22,
   "id": "52994ca9",
   "metadata": {},
   "outputs": [],
   "source": [
    "# Problemas: Data e id duplicados - Arrumar a data com to_date e arrumar os is de acordo com o último update\n",
    "\n",
    "## Arrumando a data\n",
    "\n",
    "df = df.withColumn('Data de Update', to_date('Data de Update', 'dd-MM-yyyy'))"
   ]
  },
  {
   "cell_type": "code",
   "execution_count": 23,
   "id": "5096ee83",
   "metadata": {},
   "outputs": [
    {
     "name": "stdout",
     "output_type": "stream",
     "text": [
      "+---+------+------+--------------+\n",
      "| Id|  Nome|Estado|Data de Update|\n",
      "+---+------+------+--------------+\n",
      "|  1| Pedro|    SP|    2022-01-01|\n",
      "|  1| Pedro|    MG|    2022-02-01|\n",
      "|  1| Pedro|    RJ|    2022-03-01|\n",
      "|  2|   Ana|    SC|    2022-01-01|\n",
      "|  2|   Ana|    PR|    2022-01-15|\n",
      "|  3| Lucas|    SP|    2020-01-03|\n",
      "|  4| Maria|    RS|    2010-01-01|\n",
      "|  5|Marcos|    RN|    2022-01-01|\n",
      "|  4| Maria|    RJ|    2021-12-31|\n",
      "+---+------+------+--------------+\n",
      "\n"
     ]
    }
   ],
   "source": [
    "df.show()"
   ]
  },
  {
   "cell_type": "code",
   "execution_count": 24,
   "id": "ce59232a",
   "metadata": {},
   "outputs": [
    {
     "name": "stdout",
     "output_type": "stream",
     "text": [
      "root\n",
      " |-- Id: integer (nullable = true)\n",
      " |-- Nome: string (nullable = true)\n",
      " |-- Estado: string (nullable = true)\n",
      " |-- Data de Update: date (nullable = true)\n",
      "\n"
     ]
    }
   ],
   "source": [
    "df.printSchema()"
   ]
  },
  {
   "cell_type": "code",
   "execution_count": 38,
   "id": "e729a382",
   "metadata": {
    "scrolled": true
   },
   "outputs": [
    {
     "name": "stdout",
     "output_type": "stream",
     "text": [
      "+---+------+------+--------------+\n",
      "| Id|  Nome|Estado|Data de Update|\n",
      "+---+------+------+--------------+\n",
      "|  2|   Ana|    SC|    2022-01-01|\n",
      "|  1| Pedro|    SP|    2022-01-01|\n",
      "|  3| Lucas|    SP|    2020-01-03|\n",
      "|  2|   Ana|    PR|    2022-01-15|\n",
      "|  4| Maria|    RS|    2010-01-01|\n",
      "|  4| Maria|    RJ|    2021-12-31|\n",
      "|  1| Pedro|    RJ|    2022-03-01|\n",
      "|  5|Marcos|    RN|    2022-01-01|\n",
      "|  1| Pedro|    MG|    2022-02-01|\n",
      "+---+------+------+--------------+\n",
      "\n"
     ]
    }
   ],
   "source": [
    "# Não funciona, pois os estados e as datas estão diferentes, logo não são cópias\n",
    "\n",
    "df.drop_duplicates().show()"
   ]
  },
  {
   "cell_type": "code",
   "execution_count": 40,
   "id": "b2a81a96",
   "metadata": {},
   "outputs": [
    {
     "name": "stdout",
     "output_type": "stream",
     "text": [
      "+---+------+------+--------------+\n",
      "| Id|  Nome|Estado|Data de Update|\n",
      "+---+------+------+--------------+\n",
      "|  1| Pedro|    SP|    2022-01-01|\n",
      "|  3| Lucas|    SP|    2020-01-03|\n",
      "|  5|Marcos|    RN|    2022-01-01|\n",
      "|  4| Maria|    RS|    2010-01-01|\n",
      "|  2|   Ana|    SC|    2022-01-01|\n",
      "+---+------+------+--------------+\n",
      "\n"
     ]
    }
   ],
   "source": [
    "# Ao selecionar uma coluna em específico ['id'], não segue a data de update\n",
    "\n",
    "df.drop_duplicates(['Id']).show()"
   ]
  },
  {
   "cell_type": "code",
   "execution_count": 48,
   "id": "642038dd",
   "metadata": {},
   "outputs": [
    {
     "name": "stderr",
     "output_type": "stream",
     "text": [
      "\r",
      "[Stage 132:=============================================>        (84 + 1) / 100]\r",
      "\r",
      "                                                                                \r"
     ]
    },
    {
     "name": "stdout",
     "output_type": "stream",
     "text": [
      "+---+------+------+--------------+\n",
      "| Id|  Nome|Estado|Data de Update|\n",
      "+---+------+------+--------------+\n",
      "|  1| Pedro|    SP|    2022-01-01|\n",
      "|  3| Lucas|    SP|    2020-01-03|\n",
      "|  5|Marcos|    RN|    2022-01-01|\n",
      "|  4| Maria|    RS|    2010-01-01|\n",
      "|  2|   Ana|    SC|    2022-01-01|\n",
      "+---+------+------+--------------+\n",
      "\n"
     ]
    }
   ],
   "source": [
    "# Ao usar orderBy, é ordenado de modo crescente\n",
    "\n",
    "df.orderBy(col('Data de Update')).drop_duplicates(['Id']).show()"
   ]
  },
  {
   "cell_type": "code",
   "execution_count": 54,
   "id": "39251200",
   "metadata": {},
   "outputs": [
    {
     "name": "stderr",
     "output_type": "stream",
     "text": [
      "\r",
      "[Stage 191:============================>                        (108 + 1) / 200]\r",
      "\r",
      "[Stage 191:======================================>              (146 + 1) / 200]\r"
     ]
    },
    {
     "name": "stdout",
     "output_type": "stream",
     "text": [
      "+---+------+------+--------------+\n",
      "| Id|  Nome|Estado|Data de Update|\n",
      "+---+------+------+--------------+\n",
      "|  1| Pedro|    RJ|    2022-03-01|\n",
      "|  2|   Ana|    PR|    2022-01-15|\n",
      "|  3| Lucas|    SP|    2020-01-03|\n",
      "|  4| Maria|    RJ|    2021-12-31|\n",
      "|  5|Marcos|    RN|    2022-01-01|\n",
      "+---+------+------+--------------+\n",
      "\n"
     ]
    },
    {
     "name": "stderr",
     "output_type": "stream",
     "text": [
      "\r",
      "[Stage 191:===============================================>     (178 + 1) / 200]\r",
      "\r",
      "                                                                                \r"
     ]
    }
   ],
   "source": [
    "# Usa-se ordem decrescente no orderBy e usa-se um outro orderBy para ordenar de acordo com o Id\n",
    "\n",
    "df.orderBy(col('Data de Update').desc()).drop_duplicates(['Id']).orderBy('Id').show()"
   ]
  },
  {
   "cell_type": "markdown",
   "id": "bc8b62af",
   "metadata": {},
   "source": [
    "## Usando window function com row_number()"
   ]
  },
  {
   "cell_type": "code",
   "execution_count": 60,
   "id": "a153596b",
   "metadata": {},
   "outputs": [],
   "source": [
    "# Cria-se a coluna 'rowid', a partir da repetição do Id, considerando a data de update de modo decrescente\n",
    "# Assim, o rowid == 1 mostra a última data de update para cada Id\n",
    "\n",
    "df = df.withColumn('rowid', row_number().over(Window.partitionBy('Id').orderBy(col('Data de Update').desc())))"
   ]
  },
  {
   "cell_type": "code",
   "execution_count": 58,
   "id": "49768bc7",
   "metadata": {},
   "outputs": [
    {
     "name": "stderr",
     "output_type": "stream",
     "text": [
      "                                                                                \r"
     ]
    },
    {
     "name": "stdout",
     "output_type": "stream",
     "text": [
      "+---+------+------+--------------+-----+\n",
      "| Id|  Nome|Estado|Data de Update|rowid|\n",
      "+---+------+------+--------------+-----+\n",
      "|  1| Pedro|    RJ|    2022-03-01|    1|\n",
      "|  1| Pedro|    MG|    2022-02-01|    2|\n",
      "|  1| Pedro|    SP|    2022-01-01|    3|\n",
      "|  3| Lucas|    SP|    2020-01-03|    1|\n",
      "|  5|Marcos|    RN|    2022-01-01|    1|\n",
      "|  4| Maria|    RJ|    2021-12-31|    1|\n",
      "|  4| Maria|    RS|    2010-01-01|    2|\n",
      "|  2|   Ana|    PR|    2022-01-15|    1|\n",
      "|  2|   Ana|    SC|    2022-01-01|    2|\n",
      "+---+------+------+--------------+-----+\n",
      "\n"
     ]
    },
    {
     "name": "stderr",
     "output_type": "stream",
     "text": [
      "\r",
      "[Stage 201:=============================================>         (62 + 1) / 75]\r",
      "\r",
      "                                                                                \r"
     ]
    }
   ],
   "source": [
    "df.show()"
   ]
  },
  {
   "cell_type": "code",
   "execution_count": 64,
   "id": "29c837e4",
   "metadata": {},
   "outputs": [
    {
     "name": "stderr",
     "output_type": "stream",
     "text": [
      "[Stage 215:================================================>    (182 + 1) / 200]\r"
     ]
    },
    {
     "name": "stdout",
     "output_type": "stream",
     "text": [
      "+---+------+------+--------------+-----+\n",
      "| Id|  Nome|Estado|Data de Update|rowid|\n",
      "+---+------+------+--------------+-----+\n",
      "|  1| Pedro|    RJ|    2022-03-01|    1|\n",
      "|  2|   Ana|    PR|    2022-01-15|    1|\n",
      "|  3| Lucas|    SP|    2020-01-03|    1|\n",
      "|  4| Maria|    RJ|    2021-12-31|    1|\n",
      "|  5|Marcos|    RN|    2022-01-01|    1|\n",
      "+---+------+------+--------------+-----+\n",
      "\n"
     ]
    },
    {
     "name": "stderr",
     "output_type": "stream",
     "text": [
      "\r",
      "                                                                                \r"
     ]
    }
   ],
   "source": [
    "# Filtra-se para o rowid desejado e reordena de acordo com o Id\n",
    "\n",
    "df.filter('rowid=1').orderBy('Id').show()"
   ]
  }
 ],
 "metadata": {
  "kernelspec": {
   "display_name": "Python 3 (ipykernel)",
   "language": "python",
   "name": "python3"
  },
  "language_info": {
   "codemirror_mode": {
    "name": "ipython",
    "version": 3
   },
   "file_extension": ".py",
   "mimetype": "text/x-python",
   "name": "python",
   "nbconvert_exporter": "python",
   "pygments_lexer": "ipython3",
   "version": "3.8.10"
  }
 },
 "nbformat": 4,
 "nbformat_minor": 5
}
