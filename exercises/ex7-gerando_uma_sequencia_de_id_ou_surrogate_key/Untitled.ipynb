{
 "cells": [
  {
   "cell_type": "markdown",
   "id": "53267c3d",
   "metadata": {},
   "source": [
    "# Gerando uma sequência de id/surrogate key"
   ]
  },
  {
   "cell_type": "code",
   "execution_count": 31,
   "id": "262b0997",
   "metadata": {},
   "outputs": [],
   "source": [
    "import pyspark\n",
    "from pyspark.sql import SparkSession\n",
    "from pyspark.sql.functions import *\n",
    "from pyspark.sql.window import Window"
   ]
  },
  {
   "cell_type": "code",
   "execution_count": 7,
   "id": "2873d051",
   "metadata": {},
   "outputs": [],
   "source": [
    "spark = SparkSession.builder \\\n",
    "    .master(\"local\") \\\n",
    "    .config(\"spark.sql.autoBroadcastJoinThreshold\", -1) \\\n",
    "    .config(\"spark.executor.memory\", \"500mb\") \\\n",
    "    .appName(\"Ex7\") \\\n",
    "    .getOrCreate()"
   ]
  },
  {
   "cell_type": "code",
   "execution_count": 40,
   "id": "81813d5b",
   "metadata": {},
   "outputs": [],
   "source": [
    "df = spark.read.option(\n",
    "    'nullValue', 'null').csv(\n",
    "    './data/emp.csv', header=True, inferSchema=True).dropna(\n",
    "    how='all').dropDuplicates(['EMPNO'])"
   ]
  },
  {
   "cell_type": "code",
   "execution_count": 41,
   "id": "223fa6ed",
   "metadata": {},
   "outputs": [
    {
     "name": "stderr",
     "output_type": "stream",
     "text": [
      "\r",
      "[Stage 147:==============================================>       (86 + 1) / 100]\r",
      "\r",
      "                                                                                \r"
     ]
    },
    {
     "name": "stdout",
     "output_type": "stream",
     "text": [
      "+-----+------+---------+----+----------+----+----+------+------------+\n",
      "|EMPNO| ENAME|      JOB| MGR|  HIREDATE| SAL|COMM|DEPTNO|UPDATED_DATE|\n",
      "+-----+------+---------+----+----------+----+----+------+------------+\n",
      "| 7499| ALLEN| SALESMAN|7698|20-02-1981|1600| 300|    30|  2022-01-01|\n",
      "| 7788| SCOTT|  ANALYST|7566|19-04-1987|3000|null|    20|  2022-01-02|\n",
      "| 7902|  FORD|  ANALYST|7566|12-03-1981|3000|null|    20|  2022-01-03|\n",
      "| 7566| JONES|  MANAGER|7839|04-02-1981|2975|null|    20|  2022-01-05|\n",
      "| 7876| ADAMS|    CLERK|7788|23-05-1987|1100|null|    20|  2022-01-03|\n",
      "| 1234|SEKHAR|   doctor|7777|      null| 667|  78|    80|  2022-01-03|\n",
      "| 7900| JAMES|    CLERK|7698|12-03-1981| 950|null|    30|  2022-01-03|\n",
      "| 7698|   SGR|  MANAGER|7839|05-01-1981|2850|null|    30|  2022-01-04|\n",
      "| 7521|  WARD| SALESMAN|7698|22-02-1981|1250| 500|    30|  2022-01-01|\n",
      "| 7654|MARTIN| SALESMAN|7698|21-09-1981|1250|1400|    30|  2022-01-03|\n",
      "| 7369| SMITH|    CLERK|7902|17-12-1980| 800|null|    20|  2022-01-01|\n",
      "| 7839|  KING|PRESIDENT|null|01-11-1981|5000|null|    10|  2022-01-02|\n",
      "| 7844|TURNER| SALESMAN|7698|09-08-1981|1500|   0|    30|  2022-01-02|\n",
      "| 7782|  RAVI|  MANAGER|7839|06-09-1981|2450|null|    10|  2022-01-02|\n",
      "| 7934|MILLER|    CLERK|7782|01-03-1982|1300|null|    10|  2022-01-03|\n",
      "+-----+------+---------+----+----------+----+----+------+------------+\n",
      "\n"
     ]
    },
    {
     "name": "stderr",
     "output_type": "stream",
     "text": [
      "\r",
      "[Stage 149:===============================================>       (65 + 1) / 75]\r",
      "\r",
      "                                                                                \r"
     ]
    }
   ],
   "source": [
    "df.show()"
   ]
  },
  {
   "cell_type": "markdown",
   "id": "cb0161a4",
   "metadata": {},
   "source": [
    "## Com window function"
   ]
  },
  {
   "cell_type": "code",
   "execution_count": 42,
   "id": "d81c3beb",
   "metadata": {},
   "outputs": [],
   "source": [
    "df1 = df.withColumn('row_number', row_number().over(Window.partitionBy(lit('')).orderBy(lit(''))))"
   ]
  },
  {
   "cell_type": "code",
   "execution_count": 43,
   "id": "2a25280e",
   "metadata": {},
   "outputs": [
    {
     "name": "stderr",
     "output_type": "stream",
     "text": [
      "                                                                                \r"
     ]
    },
    {
     "name": "stdout",
     "output_type": "stream",
     "text": [
      "+-----+------+---------+----+----------+----+----+------+------------+----------+\n",
      "|EMPNO| ENAME|      JOB| MGR|  HIREDATE| SAL|COMM|DEPTNO|UPDATED_DATE|row_number|\n",
      "+-----+------+---------+----+----------+----+----+------+------------+----------+\n",
      "| 7499| ALLEN| SALESMAN|7698|20-02-1981|1600| 300|    30|  2022-01-01|         1|\n",
      "| 7788| SCOTT|  ANALYST|7566|19-04-1987|3000|null|    20|  2022-01-02|         2|\n",
      "| 7902|  FORD|  ANALYST|7566|12-03-1981|3000|null|    20|  2022-01-03|         3|\n",
      "| 7566| JONES|  MANAGER|7839|04-02-1981|2975|null|    20|  2022-01-05|         4|\n",
      "| 7876| ADAMS|    CLERK|7788|23-05-1987|1100|null|    20|  2022-01-03|         5|\n",
      "| 1234|SEKHAR|   doctor|7777|      null| 667|  78|    80|  2022-01-03|         6|\n",
      "| 7900| JAMES|    CLERK|7698|12-03-1981| 950|null|    30|  2022-01-03|         7|\n",
      "| 7698|   SGR|  MANAGER|7839|05-01-1981|2850|null|    30|  2022-01-04|         8|\n",
      "| 7521|  WARD| SALESMAN|7698|22-02-1981|1250| 500|    30|  2022-01-01|         9|\n",
      "| 7654|MARTIN| SALESMAN|7698|21-09-1981|1250|1400|    30|  2022-01-03|        10|\n",
      "| 7369| SMITH|    CLERK|7902|17-12-1980| 800|null|    20|  2022-01-01|        11|\n",
      "| 7839|  KING|PRESIDENT|null|01-11-1981|5000|null|    10|  2022-01-02|        12|\n",
      "| 7844|TURNER| SALESMAN|7698|09-08-1981|1500|   0|    30|  2022-01-02|        13|\n",
      "| 7782|  RAVI|  MANAGER|7839|06-09-1981|2450|null|    10|  2022-01-02|        14|\n",
      "| 7934|MILLER|    CLERK|7782|01-03-1982|1300|null|    10|  2022-01-03|        15|\n",
      "+-----+------+---------+----+----------+----+----+------+------------+----------+\n",
      "\n"
     ]
    }
   ],
   "source": [
    "df1.show()"
   ]
  },
  {
   "cell_type": "markdown",
   "id": "164d28be",
   "metadata": {},
   "source": [
    "## Com crc32"
   ]
  },
  {
   "cell_type": "code",
   "execution_count": 44,
   "id": "95215052",
   "metadata": {},
   "outputs": [],
   "source": [
    "df2 = df.withColumn('crc32_key', crc32(col('EMPNO').cast('string')))"
   ]
  },
  {
   "cell_type": "code",
   "execution_count": 45,
   "id": "ef7675ee",
   "metadata": {},
   "outputs": [
    {
     "name": "stdout",
     "output_type": "stream",
     "text": [
      "+-----+------+---------+----+----------+----+----+------+------------+----------+\n",
      "|EMPNO| ENAME|      JOB| MGR|  HIREDATE| SAL|COMM|DEPTNO|UPDATED_DATE| crc32_key|\n",
      "+-----+------+---------+----+----------+----+----+------+------------+----------+\n",
      "| 7499| ALLEN| SALESMAN|7698|20-02-1981|1600| 300|    30|  2022-01-01|1046173690|\n",
      "| 7788| SCOTT|  ANALYST|7566|19-04-1987|3000|null|    20|  2022-01-02|1375856756|\n",
      "| 7902|  FORD|  ANALYST|7566|12-03-1981|3000|null|    20|  2022-01-03|1888724584|\n",
      "| 7566| JONES|  MANAGER|7839|04-02-1981|2975|null|    20|  2022-01-05| 683555987|\n",
      "| 7876| ADAMS|    CLERK|7788|23-05-1987|1100|null|    20|  2022-01-03| 964533889|\n",
      "| 1234|SEKHAR|   doctor|7777|      null| 667|  78|    80|  2022-01-03|2615402659|\n",
      "| 7900| JAMES|    CLERK|7698|12-03-1981| 950|null|    30|  2022-01-03|2661140292|\n",
      "| 7698|   SGR|  MANAGER|7839|05-01-1981|2850|null|    30|  2022-01-04|1255715586|\n",
      "| 7521|  WARD| SALESMAN|7698|22-02-1981|1250| 500|    30|  2022-01-01|3535170612|\n",
      "| 7654|MARTIN| SALESMAN|7698|21-09-1981|1250|1400|    30|  2022-01-03|4024152101|\n",
      "| 7369| SMITH|    CLERK|7902|17-12-1980| 800|null|    20|  2022-01-01|3163315632|\n",
      "| 7839|  KING|PRESIDENT|null|01-11-1981|5000|null|    10|  2022-01-02|3450750484|\n",
      "| 7844|TURNER| SALESMAN|7698|09-08-1981|1500|   0|    30|  2022-01-02|4234062958|\n",
      "| 7782|  RAVI|  MANAGER|7839|06-09-1981|2450|null|    10|  2022-01-02|3000238442|\n",
      "| 7934|MILLER|    CLERK|7782|01-03-1982|1300|null|    10|  2022-01-03|3000848542|\n",
      "+-----+------+---------+----+----------+----+----+------+------------+----------+\n",
      "\n"
     ]
    }
   ],
   "source": [
    "df2.show()"
   ]
  },
  {
   "cell_type": "markdown",
   "id": "f07b0f60",
   "metadata": {},
   "source": [
    "# Com md5"
   ]
  },
  {
   "cell_type": "code",
   "execution_count": 46,
   "id": "8c74413d",
   "metadata": {},
   "outputs": [],
   "source": [
    "df3 = df.withColumn('md5_key', md5(col('EMPNO').cast('string')))"
   ]
  },
  {
   "cell_type": "code",
   "execution_count": 47,
   "id": "f1bbb6bd",
   "metadata": {},
   "outputs": [
    {
     "name": "stderr",
     "output_type": "stream",
     "text": [
      "\r",
      "[Stage 182:==================================================>   (94 + 1) / 100]\r",
      "\r",
      "                                                                                \r"
     ]
    },
    {
     "name": "stdout",
     "output_type": "stream",
     "text": [
      "+-----+------+---------+----+----------+----+----+------+------------+--------------------+\n",
      "|EMPNO| ENAME|      JOB| MGR|  HIREDATE| SAL|COMM|DEPTNO|UPDATED_DATE|             md5_key|\n",
      "+-----+------+---------+----+----------+----+----+------+------------+--------------------+\n",
      "| 7499| ALLEN| SALESMAN|7698|20-02-1981|1600| 300|    30|  2022-01-01|7a2b33c672ce223b2...|\n",
      "| 7788| SCOTT|  ANALYST|7566|19-04-1987|3000|null|    20|  2022-01-02|866c7ee013c58f01f...|\n",
      "| 7902|  FORD|  ANALYST|7566|12-03-1981|3000|null|    20|  2022-01-03|66fe2bcc701bb627e...|\n",
      "| 7566| JONES|  MANAGER|7839|04-02-1981|2975|null|    20|  2022-01-05|b937384a573b94c4d...|\n",
      "| 7876| ADAMS|    CLERK|7788|23-05-1987|1100|null|    20|  2022-01-03|42dab56861d81108e...|\n",
      "| 1234|SEKHAR|   doctor|7777|      null| 667|  78|    80|  2022-01-03|81dc9bdb52d04dc20...|\n",
      "| 7900| JAMES|    CLERK|7698|12-03-1981| 950|null|    30|  2022-01-03|400c3241004b5db7c...|\n",
      "| 7698|   SGR|  MANAGER|7839|05-01-1981|2850|null|    30|  2022-01-04|c570c225d1fb8a72a...|\n",
      "| 7521|  WARD| SALESMAN|7698|22-02-1981|1250| 500|    30|  2022-01-01|e1e1f667ce4596e56...|\n",
      "| 7654|MARTIN| SALESMAN|7698|21-09-1981|1250|1400|    30|  2022-01-03|e2a7555f7cabd6e31...|\n",
      "| 7369| SMITH|    CLERK|7902|17-12-1980| 800|null|    20|  2022-01-01|0d7f9017fbda69190...|\n",
      "| 7839|  KING|PRESIDENT|null|01-11-1981|5000|null|    10|  2022-01-02|ca91c5464e73d3066...|\n",
      "| 7844|TURNER| SALESMAN|7698|09-08-1981|1500|   0|    30|  2022-01-02|b356e7aed7ee82589...|\n",
      "| 7782|  RAVI|  MANAGER|7839|06-09-1981|2450|null|    10|  2022-01-02|ac5c482277858d6fe...|\n",
      "| 7934|MILLER|    CLERK|7782|01-03-1982|1300|null|    10|  2022-01-03|6c90885b28e58d1f4...|\n",
      "+-----+------+---------+----+----------+----+----+------+------------+--------------------+\n",
      "\n"
     ]
    }
   ],
   "source": [
    "df3.show()"
   ]
  },
  {
   "cell_type": "markdown",
   "id": "648435ef",
   "metadata": {},
   "source": [
    "# Com sha2"
   ]
  },
  {
   "cell_type": "code",
   "execution_count": 52,
   "id": "b788b81c",
   "metadata": {},
   "outputs": [],
   "source": [
    "df4 = df.withColumn('sha2_key', sha2(col('EMPNO').cast('string'), 256))"
   ]
  },
  {
   "cell_type": "code",
   "execution_count": 53,
   "id": "0b164757",
   "metadata": {},
   "outputs": [
    {
     "name": "stdout",
     "output_type": "stream",
     "text": [
      "+-----+------+---------+----+----------+----+----+------+------------+--------------------+\n",
      "|EMPNO| ENAME|      JOB| MGR|  HIREDATE| SAL|COMM|DEPTNO|UPDATED_DATE|            sha2_key|\n",
      "+-----+------+---------+----+----------+----+----+------+------------+--------------------+\n",
      "| 7499| ALLEN| SALESMAN|7698|20-02-1981|1600| 300|    30|  2022-01-01|4427dc2e32a1d099d...|\n",
      "| 7788| SCOTT|  ANALYST|7566|19-04-1987|3000|null|    20|  2022-01-02|16740bf13991fe083...|\n",
      "| 7902|  FORD|  ANALYST|7566|12-03-1981|3000|null|    20|  2022-01-03|7b721c50ff0220bb9...|\n",
      "| 7566| JONES|  MANAGER|7839|04-02-1981|2975|null|    20|  2022-01-05|b2ca4f93866dc5f5a...|\n",
      "| 7876| ADAMS|    CLERK|7788|23-05-1987|1100|null|    20|  2022-01-03|05a4cd58579909328...|\n",
      "| 1234|SEKHAR|   doctor|7777|      null| 667|  78|    80|  2022-01-03|03ac674216f3e15c7...|\n",
      "| 7900| JAMES|    CLERK|7698|12-03-1981| 950|null|    30|  2022-01-03|22191a9215264bb24...|\n",
      "| 7698|   SGR|  MANAGER|7839|05-01-1981|2850|null|    30|  2022-01-04|83f9d8d707524a4f5...|\n",
      "| 7521|  WARD| SALESMAN|7698|22-02-1981|1250| 500|    30|  2022-01-01|74ed8ca63e8b4fb8b...|\n",
      "| 7654|MARTIN| SALESMAN|7698|21-09-1981|1250|1400|    30|  2022-01-03|b969b01c158ebfecd...|\n",
      "| 7369| SMITH|    CLERK|7902|17-12-1980| 800|null|    20|  2022-01-01|c59f438f16c5a409e...|\n",
      "| 7839|  KING|PRESIDENT|null|01-11-1981|5000|null|    10|  2022-01-02|cc87d27285025584d...|\n",
      "| 7844|TURNER| SALESMAN|7698|09-08-1981|1500|   0|    30|  2022-01-02|b513a7ff5978b9588...|\n",
      "| 7782|  RAVI|  MANAGER|7839|06-09-1981|2450|null|    10|  2022-01-02|d7b6fab9aa91943de...|\n",
      "| 7934|MILLER|    CLERK|7782|01-03-1982|1300|null|    10|  2022-01-03|6a25547cf30b010a2...|\n",
      "+-----+------+---------+----+----------+----+----+------+------------+--------------------+\n",
      "\n"
     ]
    }
   ],
   "source": [
    "df4.show()"
   ]
  },
  {
   "cell_type": "code",
   "execution_count": null,
   "id": "67e890f3",
   "metadata": {},
   "outputs": [],
   "source": [
    " "
   ]
  }
 ],
 "metadata": {
  "kernelspec": {
   "display_name": "Python 3 (ipykernel)",
   "language": "python",
   "name": "python3"
  },
  "language_info": {
   "codemirror_mode": {
    "name": "ipython",
    "version": 3
   },
   "file_extension": ".py",
   "mimetype": "text/x-python",
   "name": "python",
   "nbconvert_exporter": "python",
   "pygments_lexer": "ipython3",
   "version": "3.8.10"
  }
 },
 "nbformat": 4,
 "nbformat_minor": 5
}
