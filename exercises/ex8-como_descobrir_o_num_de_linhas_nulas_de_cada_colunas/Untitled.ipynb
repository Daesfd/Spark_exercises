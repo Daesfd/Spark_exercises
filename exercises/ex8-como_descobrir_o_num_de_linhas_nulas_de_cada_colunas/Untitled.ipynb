{
 "cells": [
  {
   "cell_type": "markdown",
   "id": "7f85e7cf",
   "metadata": {},
   "source": [
    "# Como descobrir o número de de linhas nulas de cada coluna"
   ]
  },
  {
   "cell_type": "code",
   "execution_count": 1,
   "id": "c3e01bb8",
   "metadata": {},
   "outputs": [],
   "source": [
    "import pyspark\n",
    "from pyspark.sql import SparkSession\n",
    "from pyspark.sql.functions import *"
   ]
  },
  {
   "cell_type": "code",
   "execution_count": 2,
   "id": "e6805162",
   "metadata": {},
   "outputs": [
    {
     "name": "stderr",
     "output_type": "stream",
     "text": [
      "22/07/05 14:14:58 WARN Utils: Your hostname, computador resolves to a loopback address: 127.0.1.1; using 10.0.0.135 instead (on interface wlp2s0)\n",
      "22/07/05 14:14:58 WARN Utils: Set SPARK_LOCAL_IP if you need to bind to another address\n",
      "WARNING: An illegal reflective access operation has occurred\n",
      "WARNING: Illegal reflective access by org.apache.spark.unsafe.Platform (file:/home/edson/spark/spark-3.0.3-bin-hadoop3.2/jars/spark-unsafe_2.12-3.0.3.jar) to constructor java.nio.DirectByteBuffer(long,int)\n",
      "WARNING: Please consider reporting this to the maintainers of org.apache.spark.unsafe.Platform\n",
      "WARNING: Use --illegal-access=warn to enable warnings of further illegal reflective access operations\n",
      "WARNING: All illegal access operations will be denied in a future release\n",
      "22/07/05 14:14:59 WARN NativeCodeLoader: Unable to load native-hadoop library for your platform... using builtin-java classes where applicable\n",
      "Using Spark's default log4j profile: org/apache/spark/log4j-defaults.properties\n",
      "Setting default log level to \"WARN\".\n",
      "To adjust logging level use sc.setLogLevel(newLevel). For SparkR, use setLogLevel(newLevel).\n"
     ]
    }
   ],
   "source": [
    "spark = SparkSession.builder \\\n",
    "    .master(\"local\") \\\n",
    "    .config(\"spark.sql.autoBroadcastJoinThreshold\", -1) \\\n",
    "    .config(\"spark.executor.memory\", \"500mb\") \\\n",
    "    .appName(\"Ex8\") \\\n",
    "    .getOrCreate()"
   ]
  },
  {
   "cell_type": "code",
   "execution_count": 5,
   "id": "20f7b4b1",
   "metadata": {},
   "outputs": [],
   "source": [
    "df = spark.read.option('nullValue', 'null').csv('./data/emp.csv', header=True, inferSchema=True)"
   ]
  },
  {
   "cell_type": "code",
   "execution_count": 6,
   "id": "8864f965",
   "metadata": {
    "scrolled": true
   },
   "outputs": [
    {
     "name": "stdout",
     "output_type": "stream",
     "text": [
      "+-----+------+---------+----+----------+----+----+------+------------+\n",
      "|EMPNO| ENAME|      JOB| MGR|  HIREDATE| SAL|COMM|DEPTNO|UPDATED_DATE|\n",
      "+-----+------+---------+----+----------+----+----+------+------------+\n",
      "| 7369| SMITH|    CLERK|7902|17-12-1980| 800|null|    20|  2022-01-01|\n",
      "| 7499| ALLEN| SALESMAN|7698|20-02-1981|1600| 300|    30|  2022-01-01|\n",
      "| 7521|  WARD| SALESMAN|7698|22-02-1981|1250| 500|    30|  2022-01-01|\n",
      "| 7566| JONES|  MANAGER|7839|04-02-1981|2975|null|    20|  2022-01-05|\n",
      "| 7654|MARTIN| SALESMAN|7698|21-09-1981|1250|1400|    30|  2022-01-03|\n",
      "| 7698|   SGR|  MANAGER|7839|05-01-1981|2850|null|    30|  2022-01-04|\n",
      "| 7782|  RAVI|  MANAGER|7839|06-09-1981|2450|null|    10|  2022-01-02|\n",
      "| 7788| SCOTT|  ANALYST|7566|19-04-1987|3000|null|    20|  2022-01-02|\n",
      "| 7839|  KING|PRESIDENT|null|01-11-1981|5000|null|    10|  2022-01-02|\n",
      "| 7844|TURNER| SALESMAN|7698|09-08-1981|1500|   0|    30|  2022-01-02|\n",
      "| 7876| ADAMS|    CLERK|7788|23-05-1987|1100|null|    20|  2022-01-03|\n",
      "| 7900| JAMES|    CLERK|7698|12-03-1981| 950|null|    30|  2022-01-03|\n",
      "| 7902|  FORD|  ANALYST|7566|12-03-1981|3000|null|    20|  2022-01-03|\n",
      "| 7934|MILLER|    CLERK|7782|01-03-1982|1300|null|    10|  2022-01-03|\n",
      "| 1234|SEKHAR|   doctor|7777|      null| 667|  78|    80|  2022-01-03|\n",
      "| 7369| SMITH|    CLERK|7902|17-12-1980| 800|null|    20|  2022-01-04|\n",
      "| 7499| ALLEN| SALESMAN|7698|20-02-1981|1600| 300|    30|  2022-01-04|\n",
      "| 7521|  WARD| SALESMAN|7698|22-02-1981|1250| 500|    30|  2022-01-04|\n",
      "| 7566| JONES|  MANAGER|7839|04-02-1981|2975|null|    20|  2022-01-04|\n",
      "| 7654|MARTIN| SALESMAN|7698|21-09-1981|1250|1400|    30|  2022-01-05|\n",
      "+-----+------+---------+----+----------+----+----+------+------------+\n",
      "only showing top 20 rows\n",
      "\n"
     ]
    }
   ],
   "source": [
    "df.show()"
   ]
  },
  {
   "cell_type": "markdown",
   "id": "2b3f119e",
   "metadata": {},
   "source": [
    "## Para cada coluna individual, apenas usar o filter() e count()"
   ]
  },
  {
   "cell_type": "code",
   "execution_count": 9,
   "id": "4e367710",
   "metadata": {},
   "outputs": [
    {
     "data": {
      "text/plain": [
       "3"
      ]
     },
     "execution_count": 9,
     "metadata": {},
     "output_type": "execute_result"
    }
   ],
   "source": [
    "df.filter('EMPNO is null').count()"
   ]
  },
  {
   "cell_type": "markdown",
   "id": "a1a64476",
   "metadata": {},
   "source": [
    "## Para todas as colunas:"
   ]
  },
  {
   "cell_type": "markdown",
   "id": "061feb35",
   "metadata": {},
   "source": [
    "### Selecionar o número de linhas em cada coluna do df"
   ]
  },
  {
   "cell_type": "code",
   "execution_count": 20,
   "id": "172ed9cd",
   "metadata": {
    "scrolled": true
   },
   "outputs": [
    {
     "name": "stdout",
     "output_type": "stream",
     "text": [
      "+------------+------------+----------+----------+---------------+----------+-----------+-------------+-------------------+\n",
      "|count(EMPNO)|count(ENAME)|count(JOB)|count(MGR)|count(HIREDATE)|count(SAL)|count(COMM)|count(DEPTNO)|count(UPDATED_DATE)|\n",
      "+------------+------------+----------+----------+---------------+----------+-----------+-------------+-------------------+\n",
      "|          30|          30|        30|        28|             28|        30|         10|           30|                 30|\n",
      "+------------+------------+----------+----------+---------------+----------+-----------+-------------+-------------------+\n",
      "\n"
     ]
    }
   ],
   "source": [
    "df.select([count(col(i)) for i in df.columns]).show()"
   ]
  },
  {
   "cell_type": "markdown",
   "id": "04d17f0e",
   "metadata": {},
   "source": [
    "### Colocar a condição da coluna ser nula"
   ]
  },
  {
   "cell_type": "code",
   "execution_count": 23,
   "id": "71ef4694",
   "metadata": {
    "scrolled": true
   },
   "outputs": [
    {
     "name": "stdout",
     "output_type": "stream",
     "text": [
      "+-----------------------------------------------+-----------------------------------------------+-------------------------------------------+-------------------------------------------+-----------------------------------------------------+-------------------------------------------+---------------------------------------------+-------------------------------------------------+-------------------------------------------------------------+\n",
      "|count(CASE WHEN (EMPNO IS NULL) THEN EMPNO END)|count(CASE WHEN (ENAME IS NULL) THEN ENAME END)|count(CASE WHEN (JOB IS NULL) THEN JOB END)|count(CASE WHEN (MGR IS NULL) THEN MGR END)|count(CASE WHEN (HIREDATE IS NULL) THEN HIREDATE END)|count(CASE WHEN (SAL IS NULL) THEN SAL END)|count(CASE WHEN (COMM IS NULL) THEN COMM END)|count(CASE WHEN (DEPTNO IS NULL) THEN DEPTNO END)|count(CASE WHEN (UPDATED_DATE IS NULL) THEN UPDATED_DATE END)|\n",
      "+-----------------------------------------------+-----------------------------------------------+-------------------------------------------+-------------------------------------------+-----------------------------------------------------+-------------------------------------------+---------------------------------------------+-------------------------------------------------+-------------------------------------------------------------+\n",
      "|                                              3|                                              3|                                          3|                                          5|                                                    5|                                          3|                                           23|                                                3|                                                            3|\n",
      "+-----------------------------------------------+-----------------------------------------------+-------------------------------------------+-------------------------------------------+-----------------------------------------------------+-------------------------------------------+---------------------------------------------+-------------------------------------------------+-------------------------------------------------------------+\n",
      "\n"
     ]
    }
   ],
   "source": [
    "df.select([count(when(col(i).isNull(), i)) for i in df.columns]).show()"
   ]
  },
  {
   "cell_type": "markdown",
   "id": "422f094e",
   "metadata": {},
   "source": [
    "### Por conta de ser difícil de observar, pelo tamanho do nome das colunas, colocar alias()"
   ]
  },
  {
   "cell_type": "code",
   "execution_count": 26,
   "id": "a1bbbcc4",
   "metadata": {},
   "outputs": [
    {
     "name": "stdout",
     "output_type": "stream",
     "text": [
      "+--------+--------+--------+--------+--------+--------+--------+--------+--------+\n",
      "|NUM Null|NUM Null|NUM Null|NUM Null|NUM Null|NUM Null|NUM Null|NUM Null|NUM Null|\n",
      "+--------+--------+--------+--------+--------+--------+--------+--------+--------+\n",
      "|       3|       3|       3|       5|       5|       3|      23|       3|       3|\n",
      "+--------+--------+--------+--------+--------+--------+--------+--------+--------+\n",
      "\n"
     ]
    }
   ],
   "source": [
    "df.select([count(when(col(i).isNull(), i)).alias('NUM Null') for i in df.columns]).show()"
   ]
  },
  {
   "cell_type": "code",
   "execution_count": null,
   "id": "3c7efc9a",
   "metadata": {},
   "outputs": [],
   "source": []
  }
 ],
 "metadata": {
  "kernelspec": {
   "display_name": "Python 3 (ipykernel)",
   "language": "python",
   "name": "python3"
  },
  "language_info": {
   "codemirror_mode": {
    "name": "ipython",
    "version": 3
   },
   "file_extension": ".py",
   "mimetype": "text/x-python",
   "name": "python",
   "nbconvert_exporter": "python",
   "pygments_lexer": "ipython3",
   "version": "3.8.10"
  }
 },
 "nbformat": 4,
 "nbformat_minor": 5
}
